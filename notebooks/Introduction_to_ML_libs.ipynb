{
 "cells": [
  {
   "cell_type": "markdown",
   "metadata": {
    "colab_type": "text",
    "id": "D-9QSHa5gkqc"
   },
   "source": [
    "[![colab-logo](https://colab.research.google.com/assets/colab-badge.svg)](https://colab.research.google.com/github/japan-medical-ai/medical-ai-course-materials/blob/master/notebooks/Introduction_to_ML_libs.ipynb)\n",
    "\n",
    "# 機械学習ライブラリの基礎\n",
    "\n",
    "本章では，代表的な機械学習アルゴリズムの紹介とその使い方のポイントを数学的な背景と合わせて紹介していきます．\n",
    "機械学習の考え方を身に着ける練習として，**単回帰分析**と**重回帰分析**のアルゴリズムを数式と一緒に考えていきましょう．これらを学ぶことで微分と線形代数，統計の使い方が見えてくると思います．重回帰分析は次章で紹介するニューラルネットワークでもその考え方のベースになるところが多いため，しっかりと数式を理解しておきましょう．\n",
    "\n",
    "## 単回帰分析\n",
    "\n",
    "まずはじめに，機械学習アルゴリズムの中でも最も基礎的な手法のひとつである，単回帰分析について説明します．機械学習アルゴリズムは，**教師あり学習**と**教師なし学習**に大別され，単回帰分析は教師あり学習の一種です．教師あり学習の典型的な問題として，$10$や$0.1$のように数値（厳密には連続値）を予測する**回帰**と，赤ワイン or 白ワインのようにカテゴリ値を予測する**分類**があります．単回帰分析はその名の通り，回帰を取り扱う手法で，ひとつの入力変数からひとつの出力変数を予測する機械学習アルゴリズムです．\n",
    "\n",
    "### 問題設定（単回帰分析）\n",
    "\n",
    "機械学習では，データをもとに学習を行いますが，データに含まれる情報の中から何を利用し，何を予測させるかは人間が決める必要があります．\n",
    "\n",
    "ここでは例として，家賃を予測する問題を考えることにします．従って，家賃が **出力変数** $y$ となります．\n",
    "\n",
    "次に， **入力変数** として何を採用するかを考えます．家賃の予測では，たとえば部屋の広さ，駅からの距離，犯罪発生率などを入力変数として検討することができます．ここでは部屋の広さを入力変数 $x$ として採用することにしましょう．実際には，複数の入力変数候補があった際に，それらすべてを扱うことができるようなモデル化が一般的ですが，それは次の重回帰分析以降で紹介することにします．\n",
    "\n",
    "機械学習のアルゴリズムでは，どの手法も大きく分けて次の3ステップで成り立っています．\n",
    "\n",
    "- Step1: モデルを決める\n",
    "- Step2: 目的関数を決める\n",
    "- Step3: 最適なパラメータを求める\n",
    "\n",
    "上記の3ステップについて，順に説明していきます．\n",
    "\n",
    "### Step1. モデルを決める（単回帰分析）\n",
    "\n",
    "まずStep1では**モデル**を決めます．モデルとは，出力変数 $y$ と入力変数 $x$ の関係性を**定式化**したものです．どのように定式化すれば，家賃をうまく予測することができるのでしょうか．このモデル設計は現在は人手で行うのが一般的であり，機械が自動的に決めてくれるわけではありません（最近ではAutoMLなど，モデルも自動決定する研究も進展してきています）．\n",
    "\n",
    "例えば，与えられたデータセットにおいて，家賃と部屋の広さの関係性が次のようになっていたとします．\n",
    "\n",
    "![家賃と部屋の広さの関係](https://github.com/japan-medical-ai/medical-ai-course-materials/raw/master/notebooks/images/2/01.png)\n",
    "\n",
    "この場合，部屋が広くなるほど，家賃が高くなるという関係がみられ，直線を予測に用いるのが妥当にみえます．\n",
    "\n",
    "![直線式によるモデル化](https://github.com/japan-medical-ai/medical-ai-course-materials/raw/master/notebooks/images/2/02.png)\n",
    "\n",
    "そこで今回は直線をモデルとして採用して，Step1のモデルを以下のように定式化します．\n",
    "\n",
    "$$\n",
    "y = wx + b\n",
    "$$\n",
    "\n",
    "ここで$w$は傾き，$b$は切片とよばれるパラメータです（機械学習では，傾きを**重み (weight)** $w$, 切片を**バイアス (bias)** $b$ という記号で表現するのが一般的です）．\n",
    "\n",
    "単回帰分析では，このようにモデルを直線 $y = wx + b$ と決めて，重み$w$とバイアス$b$をデータにうまくフィットするように調整していきます．\n",
    "\n",
    "多くの機械学習ではこのようなパラメータで特徴付けられたモデルを使い，与えられた**データセット**に適合するように最適なパラメータを求めることが目標となります．ここでデータセットは，**入力変数**である部屋の広さ $x$ と，**教師データ**となる家賃 $t$ の組からなるデータの集合です（本解説では，機械学習による予測値を $y$ ，教師データとして与えるものを $t$ と使い分けています）．\n",
    "\n",
    "データセットは $\\mathcal{D} = \\{x_n, t_n\\}_{n=1}^{N}$ として表されることもあります．ここで，添え字 $n$ ($n=1,2,\\ldots,N$) は $n$ 番目の物件という意味であり，$N$ は全体の物件数のことです．この $N$ は**サンプル数**とよばれています．\n",
    "\n",
    "ここで，この後の計算を楽に進めるために，**データの中心化**というテクニックを紹介します．下図に示すように，部屋の広さと家賃は両方とも正の値であるため，左のグラフのような形になります．中心化では，**平均を** $\\boldsymbol{0}$とした中央に配置するような変換の処理を施します．この中心化は多くのアルゴリズムで前処理として行うことが一般的です．厳密には前章で紹介した中心化込みのスケーリングがよく用いられます．\n",
    "\n",
    "![中心化処理](https://github.com/japan-medical-ai/medical-ai-course-materials/raw/master/notebooks/images/2/03.png)\n",
    "\n",
    "この処理を行う理由の一つとして，下図のように，データの中心化によってバイアス $b$ が$0$となり，$y_{c} = wx_{c}$ のように，モデルをバイアス成分なしで表現することができるということが挙げられます，これによって，調整すべきパラメータを減らすことができます．\n",
    "\n",
    "![中心化後の直線式](https://github.com/japan-medical-ai/medical-ai-course-materials/raw/master/notebooks/images/2/04.png)\n",
    "\n",
    "データの中心化は入出力の平均をデータの全体から引くことで実現されます．つまり，\n",
    "\n",
    "$$\n",
    "\\begin{aligned}\n",
    "x_{c} &= x - \\bar{x} \\\\\n",
    "t_{c} &= t - \\bar{t}\n",
    "\\end{aligned}\n",
    "$$\n",
    "\n",
    "となります．例えば，具体的な数値で見ると，下図の通りです．\n",
    "![中心化前後の数値比較](https://github.com/japan-medical-ai/medical-ai-course-materials/raw/master/notebooks/images/2/05.png)\n",
    "\n",
    "中心化後を示す添え字の $c$ に関しては表現が冗長となるため，今後はこの添え字を省略し，データの中心化を事前に行っていることを前提とします．この時，モデルは\n",
    "\n",
    "$$\n",
    "y = wx\n",
    "$$\n",
    "\n",
    "となり，単回帰分析の目標は，データセット $\\mathcal{D} = \\{x_n, t_n\\}_{n=1}^{N}$ に基づいて，パラメータ $w$ を**適切**に調整することになります．\n",
    "\n",
    "### Step2. 目的関数を決める（単回帰分析）\n",
    "\n",
    "1章で説明したように，教師あり学習では多くの場合，目的関数を設計し，その目的関数を最小化（または最大化）することでモデルの学習を行います．\n",
    "\n",
    "今回は教師データと予測値が一致することが目標であり，それを表す目的関数として教師データと予測値の二乗誤差を使います．二乗誤差が$0$であるとき，またその時のみ$t = y$ となり，完璧な予測を達成しているといえます．$n$ 番目の物件に対する教師データ$t_{n}$ と予測値$y_{n}$の二乗誤差は\n",
    "\n",
    "$$\n",
    "(t_{n} - y_{n})^{2}\n",
    "$$\n",
    "\n",
    "となります．これを全物件で考慮する必要があるため，最終的な目的関数はその総和をとり，\n",
    "\n",
    "$$\n",
    "\\begin{aligned}\n",
    "\\mathcal{L}&=\\left( t_{1}-y_{1}\\right)^{2}+\\left( t_{2}-y_{2}\\right)^{2}+\\ldots + (t_{N}-y_{N})^{2} \\\\\n",
    "&=\\sum^{N}_{n=1}\\left( t_{n}-y_{n}\\right)^{2}\\\\\n",
    "\\end{aligned}\n",
    "$$\n",
    "\n",
    "となります．また，Step1で決めたモデル\n",
    "\n",
    "$$\n",
    "y_{n} = wx_{n}\n",
    "$$\n",
    "\n",
    "を代入すると，目的関数は\n",
    "\n",
    "$$\n",
    "\\mathcal{L}=\\sum^{N}_{n=1}\\left( t_{n}-wx_{n}\\right)^{2}\n",
    "$$\n",
    "\n",
    "とパラメータを含んだ形式で表現することができます．このような関数を損失関数とよぶことを思い出してください．\n",
    "\n",
    "### Step3. 最適なパラメータを求める（単回帰分析） \n",
    "\n",
    "最後は目的関数を最小化するようなパラメータを求めます．ここで，ある関数を最小化する点を求める方法として，微分が使えることを既に学んでいます．今回のような差の二乗の場合，微分して「傾き0」となる点が損失が$0$となる点です．目的関数の微分を求めると，次のようになります．\n",
    "\n",
    "$$\n",
    "\\begin{aligned}\n",
    "\\dfrac{\\partial }{\\partial w} \\mathcal{L}  &= \\dfrac{\\partial}{\\partial w} { \\sum^{N}_{n=1} ( t_{n}-wx_{n})^{2} }\\\\\n",
    "\\end{aligned}\n",
    "$$\n",
    "\n",
    "ここで，微分は**線形性**の性質を持っており，特に和の微分は，微分の和であることを利用して次を得ます．\n",
    "\n",
    "$$\n",
    "\\dfrac{\\partial}{\\partial w} \\mathcal{L}=\\sum^{N}_{n=1}\\dfrac {\\partial }{\\partial w}\\left( t_{n}-wx_{n}\\right)^{2}\n",
    "$$\n",
    "\n",
    "ここで微分と総和 $\\sum$ の記号が入れ替わっています．次に，和の各項をみると，\n",
    "\n",
    "$$\n",
    "\\dfrac {\\partial }{\\partial w}\\left( t_{n}-wx_{n}\\right)^{2}\n",
    "$$\n",
    "\n",
    "の部分は$t_n - wx_n$とその二乗の**合成関数**になっていることがわかります．$u_{n} = t_{n} - wx_{n}$, $f(u_{n}) = u_{n}^{2}$ とおくと，\n",
    "\n",
    "$$\n",
    "\\begin{aligned}\n",
    "\\dfrac {\\partial }{\\partial w}\\left( t_{n}-wx_{n}\\right)^{2} &=  \\dfrac {\\partial }{\\partial w} f(u_{n}) \\\\\n",
    "&= \\dfrac {\\partial u_{n}}{\\partial w} \\dfrac{\\partial f(u_{n})}{\\partial u_{n}} \\\\\n",
    "&=-x_{n} \\times 2 u_{n}  \\\\\n",
    "&= -2x_{n}( t_{n}-wx_{n} )\n",
    "\\end{aligned}\n",
    "$$\n",
    "\n",
    "が得られます．これより，\n",
    "\n",
    "$$\n",
    "\\begin{aligned}\n",
    "\\dfrac{\\partial }{\\partial w} \\mathcal{L}\n",
    "&=\\sum^{N}_{n=1}\\dfrac {\\partial }{\\partial w}\\left( t_{n}-wx_{n}\\right)^{2}\n",
    "\\\\&=-\\sum^{N}_{n=1}2x_{n}\\left( t_{n}-wx_{n}\\right)\n",
    "\\end{aligned}\n",
    "$$\n",
    "\n",
    "となります．この微分の値が0となるように$w$を求めていくと，\n",
    "\n",
    "$$\n",
    "\\begin{aligned}\n",
    "\\dfrac {\\partial }{\\partial w} \\mathcal{L} &=0\\\\\n",
    "-2\\sum^{N}_{n=1}x_{n}\\left( t_{n}-wx_{n}\\right) &=0\\\\\n",
    "-2 \\sum^{N}_{n=1}x_{n}t_{n} + 2\\sum^{N}_{n=1}wx^{2}_{n}&=0\\\\\n",
    "-2\\sum^{N}_{n=1}x_{n}t_{n}+2w\\sum^{N}_{n=1}x^{2}_{n}&=0\\\\\n",
    "w\\sum^{N}_{n=1}x^{2}_{n}&=\\sum^{N}_{n=1}x_{n}t_{n}\\\\\n",
    "\\end{aligned}\n",
    "$$\n",
    "\n",
    "より，\n",
    "\n",
    "$$\n",
    "\\begin{aligned}\n",
    "w&=\\dfrac {\\displaystyle  \\sum^{N}_{n=1}x_{n}t_{n}}{\\displaystyle  \\sum^{N}_{n=1}x^{2}_{n}}\n",
    "\\end{aligned}\n",
    "$$\n",
    "\n",
    "と求まりました．この求まったパラメータ $w$ を確認すると，与えられたデータセット $\\mathcal{D} = \\{x_n, t_n\\}_{n=1}^{N}$ のみから決定できていることがわかります．\n",
    "\n",
    "次に，例題にあげていた数値例でパラメータ $w$ を求めてみましょう．まずは，データの中心化を行うために，\n",
    "\n",
    "$$\n",
    "\\begin{aligned}\n",
    "\\bar{x} &= \\dfrac{1}{3} (1 + 2 + 3) = 2 \\\\\n",
    "\\bar{t} &= \\dfrac{1}{3}(2 + 3.9 + 6.1) = 4\n",
    "\\end{aligned}\n",
    "$$\n",
    "\n",
    "とそれぞれの平均を求め，各変数に対して前処理として，中心化の処理を施すと，\n",
    "\n",
    "$$\n",
    "\\begin{aligned}\n",
    "x_{1} &= 1 - 2 = -1 \\\\\n",
    "x_{2} &= 2 -2 = 0 \\\\\n",
    "x_{3} &= 3- 2 = 1\\\\\n",
    "t_{1} &= 2 - 4 = -2\\\\\n",
    "t_{2} &= 3.9 - 4 = -0.1\\\\\n",
    "t_{3} &= 6.1 - 4 = 2.1 \n",
    "\\end{aligned}\n",
    "$$\n",
    "\n",
    "となります．そして，中心化後の値を用いて，最適なパラメータ$w$を導出すると，\n",
    "\n",
    "$$\n",
    "\\begin{aligned}\n",
    "w &= \\dfrac{\\displaystyle \\sum_{n=1}^{N}x_{n}t_{n}}{\\displaystyle  \\sum_{n=1}^{N}x_{n}^{2}} \\\\\n",
    "&= \\dfrac{x_{1}t_{1} + x_{2}t_{2} + x_{3}t_{3}}{x_{1}^{2} + x_{2}^{2} + x_{3}^{2}} \\\\\n",
    "&= \\dfrac{-1 \\times (-2) + 0 \\times 0.1 + 1 \\times 2.1}{(-1)^{2} + 0^2 + 1^2} \\\\\n",
    "&= 2.05\n",
    "\\end{aligned}\n",
    "$$\n",
    "\n",
    "と求まりました．これで単回帰分析の学習が完了しました．この求まったパラメータを使用したモデルが**学習済みモデル**となります．\n",
    "\n",
    "続いて，このモデルを使って新しいサンプルに対する予測をしてみましょう．学習したモデルを使って新たな入力データについて予測値を計算する処理を **推論** とよびます．例えば，新しいサンプル $x_{q}=1.5$ に対する予測値は次のように求まります，\n",
    "\n",
    "$$\n",
    "\\begin{aligned}\n",
    "y_{c} &= wx_{c} \\\\\n",
    "y_{q} - \\bar{t} &= w(x_{q}-\\bar{x}) \\\\\n",
    "\\Rightarrow y_{q} &= w(x_{q}-\\bar{x}) + \\bar{t} \\\\\n",
    "&= 2.05 \\times (1.5 - 2) + 4 \\\\\n",
    "&= 2.975\n",
    "\\end{aligned}\n",
    "$$\n",
    "\n",
    "モデルは中心化データを用いて学習を行ったので，実際の予測値は中心化したデータを元に戻すことを忘れないようにしましょう．\n",
    "\n",
    "以上が，単回帰分析の一連の手順となります．\n",
    "\n",
    "## 重回帰分析\n",
    "\n",
    "次に，多変数の入力変数を扱う重回帰分析を扱います．この重回帰分析を学ぶことで線形代数に関する知識が深まります．\n",
    "\n",
    "重回帰分析は単回帰分析と同様に教師あり学習の一種であり，回帰を取り扱う手法です．問題設定は，ほとんど単回帰分析と同じですが，重回帰分析では入力変数の数が複数となります．つまり，複数の入力変数から出力変数を予測できるような機械学習アルゴリズムです．\n",
    "\n",
    "### 問題設定（重回帰分析）\n",
    "\n",
    "ここでは単回帰分析の場合と同様に家賃を予測する問題を考え，家賃を出力変数 $y$ とします．入力変数としては，単回帰分析では考慮しきれていなかった駅からの距離や犯罪発生率なども考慮していきます．例えば，部屋の広さ $x_{1}$, 駅からの距離 $x_{2}$, ..., 犯罪発生率 $x_{M}$ のように $M$ 個の入力変数があるとします（$M=1$の場合，単回帰分析の問題に帰着されます）．\n",
    "\n",
    "単回帰分析と同様，以下の3ステップで学習していきます．\n",
    "\n",
    "- モデルを決める\n",
    "- 目的関数を決める\n",
    "- 最適なパラメータを求める\n",
    "\n",
    "### Step1. モデルを決める（重回帰分析）\n",
    "\n",
    "単回帰分析のモデルは，\n",
    "\n",
    "$$\n",
    "y = wx + b\n",
    "$$\n",
    "\n",
    "であり，$w$ を重み（weight），$b$ をバイアス (bias) とよびました．重回帰分析では，この式を複数の入力変数へと拡張し，\n",
    "\n",
    "$$\n",
    "y=w_{1}x_{1}+w_{2}x_{2}+\\ldots +w_{M}x_{M}+b\n",
    "$$\n",
    "\n",
    "のような**線形結合**の形で表します．この場合，各入力変数は線形に出力変数に影響を与えることを仮定しており，かなり単純なモデル化といえます．実際には，入力変数間に非線形な依存関係が存在する場合には，そのことを考慮してモデル化を行う必要があります．それについては今後説明していきます．\n",
    "\n",
    "重回帰分析のモデルは総和の記号を使って整理すると，\n",
    "\n",
    "$$\n",
    "y = \\sum_{m=1}^{M} w_{m} x_{m} + b\n",
    "$$\n",
    "\n",
    "のように書くことができます．さらにここで，$x_0 = 1$，$w_0 = b$とおくと，\n",
    "\n",
    "$$\n",
    "\\begin{aligned}\n",
    "y&=w_{1}x_{1}+w_{2}x_{2}+\\ldots +w_{M}x_{M}+b\\\\\n",
    "&=w_{1}x_{1}+w_{2}x_{2}+\\ldots +w_{M}x_{M}+w_{0} x_{0}\\\\\n",
    "&=w_{0}x_{0}+w_{1}x_{1}+\\ldots +w_{M}x_{M}\\\\\n",
    "\\end{aligned}\n",
    "$$\n",
    "\n",
    "のようにバイアス $b$ を総和に包含することができます．そして，この式を整理していくと，\n",
    "\n",
    "$$\n",
    "\\begin{aligned}\n",
    "y&=w_{0}x_{0}+w_{1}x_{1}+\\ldots +w_{M}x_{M}\\\\\n",
    "&=\\begin{bmatrix}\n",
    "w_{0} & w_{1} & \\ldots  & w_{M}\n",
    "\\end{bmatrix}\\begin{bmatrix}\n",
    "x_{0} \\\\\n",
    "x_{1} \\\\\n",
    "\\vdots  \\\\\n",
    "x_{M}\n",
    "\\end{bmatrix}\\\\\n",
    "&=\\boldsymbol{w}^{T}\\boldsymbol{x}\n",
    "\\end{aligned}\n",
    "$$\n",
    "\n",
    "のように，ベクトルの内積で表現することができます．また，今後取り扱う際には，$\\boldsymbol{x}$ が前に来ているほうが計算上便利であるため，\n",
    "\n",
    "$$\n",
    "\\begin{aligned}\n",
    "y&=w_{0}x_{0}+w_{1}x_{1}+\\ldots +w_{M}x_{M}\\\\\n",
    "&=\\begin{bmatrix}\n",
    "x_{0} & x_{1} & \\ldots  & x_{M}\n",
    "\\end{bmatrix}\\begin{bmatrix}\n",
    "w_{0} \\\\\n",
    "w_{1} \\\\\n",
    "\\vdots  \\\\\n",
    "w_{M}\n",
    "\\end{bmatrix}\\\\\n",
    "&=\\boldsymbol{x}^{T}\\boldsymbol{w}\n",
    "\\end{aligned}\n",
    "$$\n",
    "\n",
    "として表現します．これが重回帰分析のモデルです．今回はパラメータとして $M+1$ 個の重み $\\boldsymbol{w}$ を求めていきます．\n",
    "\n",
    "### Step2. 目的関数を決める（重回帰分析）\n",
    "\n",
    "単回帰分析では，教師データ$t$と予測値$y$の二乗誤差が小さいほど良い予測であるとし，その総和を目的関数として定めました．重回帰分析でも，予測値$y$を求めるということは同じであるため，次のような同じ目的関数を使います．\n",
    "\n",
    "$$\n",
    "\\begin{aligned}\n",
    "\\mathcal{L}&=\\left( t_{1}-y_{1}\\right)^{2}+\\left( t_{2}-y_{2}\\right)^{2}+\\ldots + \\left( t_{N}-y_{N}\\right)^{2}\n",
    "\\end{aligned}\n",
    "$$\n",
    "\n",
    "このように，**二乗誤差の総和**を単回帰分析同様，目的関数として採用します．単回帰分析では，これを\n",
    "\n",
    "$$\n",
    "\\mathcal{L}=\\sum^{N}_{n=1} ( t_{n} - y_{n})^{2}\n",
    "$$\n",
    "\n",
    "のように，総和の記号を使ってまとめていましたが，\n",
    "\n",
    "$$\n",
    "\\begin{aligned}\n",
    "\\mathcal{L}&=\\left( t_{1}-y_{1}\\right)^{2}+\\left( t_{2}-y_{2}\\right)^{2}+\\ldots + \\left( t_{N}-y_{N}\\right)^{2}\\\\\n",
    "&=\\begin{bmatrix} t_{1} - y_{1} & t_{2}-y_{2} & \\ldots & t_{N}-y_{N} \\end{bmatrix} \\begin{bmatrix}\n",
    "t_{1}-y_{1} \\\\\n",
    "t_{2}-y_{2} \\\\\n",
    "\\vdots \\\\\n",
    "t_{N}-y_{N}\n",
    "\\end{bmatrix}\\\\\n",
    "&=\\left( \\boldsymbol{t}-\\boldsymbol{y}\\right)^{T}\\left( \\boldsymbol{t}-\\boldsymbol{y}\\right) \n",
    "\\end{aligned}\n",
    "$$\n",
    "\n",
    "のようにベクトルを使って表現することもできます．また，$\\boldsymbol{y}$ に関して，\n",
    "\n",
    "$$\n",
    "\\begin{aligned}\n",
    "\\boldsymbol{y}=\\begin{bmatrix}\n",
    "y_{1} \\\\\n",
    "y_{2} \\\\\n",
    "\\vdots \\\\\n",
    "y_{N}\n",
    "\\end{bmatrix}=\\begin{bmatrix}\n",
    "\\boldsymbol{x}_{1}^{T}\\boldsymbol{w} \\\\\n",
    "\\boldsymbol{x}_{2}^{T}\\boldsymbol{w} \\\\\n",
    "\\vdots  \\\\\n",
    "\\boldsymbol{x}_{N}^{T}\\boldsymbol{w}\n",
    "\\end{bmatrix}\n",
    "=\\begin{bmatrix}\n",
    "\\boldsymbol{x}_{1}^{T} \\\\\n",
    "\\boldsymbol{x}_{2}^{T} \\\\\n",
    "\\vdots  \\\\\n",
    "\\boldsymbol{x}_{N}^{T}\n",
    "\\end{bmatrix}\n",
    "\\boldsymbol{w}\n",
    "\\end{aligned}\n",
    "$$\n",
    "\n",
    "のように書くことができます．これを整理すると，\n",
    "\n",
    "$$\n",
    "\\begin{aligned}\n",
    "\\boldsymbol{y}&=\n",
    "\\begin{bmatrix}\n",
    "x_{10} & x_{11} & x_{12} & \\ldots  & x_{1M} \\\\\n",
    "x_{20} & x_{21} & x_{22} & \\ldots  & x_{2M} \\\\\n",
    "\\vdots  & \\vdots  & \\vdots  & \\ddots  \\\\\n",
    "x_{N0} & x_{N1} & x_{N{2}} & \\ldots  & x_{NM}\n",
    "\\end{bmatrix}\\begin{bmatrix}\n",
    "w_{0} \\\\\n",
    "w_{1} \\\\\n",
    "w_{2} \\\\\n",
    "\\vdots  \\\\\n",
    "w_{M}\n",
    "\\end{bmatrix}\\\\\n",
    "&=\\boldsymbol{X}\\boldsymbol{w}\n",
    "\\end{aligned}\n",
    "$$\n",
    "\n",
    "と表記できます．ここで，行（横）方向がサンプルを表しており，例えば各物件に対応します．列（縦）方向が入力変数を表しており，例えば，部屋の広さや駅からの距離などに対応します．もう少し具体的な数値で考えると，部屋の広さ $= 50m^{2}$ ，駅からの距離 $= 600 m$ ，犯罪発生率 $= 2$% のような $n$ 番目の物件の場合，入力変数の数$M=3$であり，\n",
    "\n",
    "$$\n",
    "\\boldsymbol{x}_{n}^{T} = \\begin{bmatrix}\n",
    "1 & 50 & 600 & 0.02\n",
    "\\end{bmatrix}\n",
    "$$\n",
    "\n",
    "のようにデータが行方向に格納されているイメージです．先頭の $1$ はバイアスを包含する際に使用している $x_{0}$ であることに注意してください．\n",
    "\n",
    "### Step3. パラメータを最適化する（重回帰分析）\n",
    "\n",
    "それでは，Step2の目的関数を最小化する，モデルのパラメータ$\\boldsymbol{w}$を求めていきましょう．\n",
    "\n",
    "**※ここでは，式変形を駆使しながら最適パラメータの解析的な解を求めていきますが，導出過程が少々複雑であり，導出結果は次節(§2.3)で示されているので，興味のある方以外はスキップして次節に進んでいただいて構いません．**\n",
    "\n",
    "まずは目的関数に関して，パラメータ $\\boldsymbol{w}$ で表現できるように式変形を行うと，\n",
    "\n",
    "$$\n",
    "\\begin{aligned}\n",
    "\\mathcal{L}&=\\left( \\boldsymbol{t}-\\boldsymbol{y}\\right)^{T}\\left( \\boldsymbol{t}-\\boldsymbol{y}\\right) \\\\\n",
    "&=\\left( \\boldsymbol{t}-\\boldsymbol{X}\\boldsymbol{w}\\right)^{T}\\left( \\boldsymbol{t}-\\boldsymbol{X}\\boldsymbol{w}\\right) \\\\\n",
    "&= \\left\\{ \\boldsymbol{t}^{T}-(\\boldsymbol{X}\\boldsymbol{w})^{T}\\right\\}\\left( \\boldsymbol{t}-\\boldsymbol{X}\\boldsymbol{w}\\right) \\\\\n",
    "&=\\left( \\boldsymbol{t}^{T}-\\boldsymbol{w}^{T}\\boldsymbol{X}^{T}\\right)\\left( \\boldsymbol{t}-\\boldsymbol{X}\\boldsymbol{w}\\right)\n",
    "\\end{aligned}\n",
    "$$\n",
    "\n",
    "となります．ここで，転置の公式 $(\\boldsymbol{A}\\boldsymbol{B})^{T} = \\boldsymbol{B}^{T}\\boldsymbol{A}^{T}$ を使っていることに注意しましょう．さらに分配法則を使って展開を進めていくと，\n",
    "\n",
    "$$\n",
    "\\begin{aligned}\n",
    "\\mathcal{L}&=\\boldsymbol{t}^{T}\\boldsymbol{t}-\\boldsymbol{t}^{T}\\boldsymbol{X}\\boldsymbol{w}-\\boldsymbol{w}^{T}\\boldsymbol{X}^{T}\\boldsymbol{t} + \\boldsymbol{w}^{T}\\boldsymbol{X}^{T}\\boldsymbol{X}\\boldsymbol{w}\\\\\n",
    "\\end{aligned}\n",
    "$$\n",
    "\n",
    "となります．この目的関数に対しパラメータの$w$について偏微分をとりたいわけですが，その前にこの式はもう少し整理することができます．はじめに，\n",
    "\n",
    "$$\n",
    "(1)^T = 1\n",
    "$$\n",
    "\n",
    "というように，スカラーは転置しても変化しません．上式の中で出てくる $\\boldsymbol{t}^{T}\\boldsymbol{X}\\boldsymbol{w}$ はスカラーなので，\n",
    "\n",
    "$$\n",
    "(\\boldsymbol{t}^{T}\\boldsymbol{X}\\boldsymbol{w})^{T} = \\boldsymbol{t}^{T}\\boldsymbol{X}\\boldsymbol{w}\n",
    "$$\n",
    "\n",
    "が成り立ちます．さらに，転置の公式 $(\\boldsymbol{A}\\boldsymbol{B}\\boldsymbol{C})^T = \\boldsymbol{C}^T\\boldsymbol{B}^T\\boldsymbol{A}^T$ より，\n",
    "\n",
    "$$\n",
    "(\\boldsymbol{t}^{T}\\boldsymbol{X}\\boldsymbol{w})^T = \\boldsymbol{w}^{T} \\boldsymbol{X}^{T} \\boldsymbol{t}\n",
    "$$\n",
    "\n",
    "も成り立ちます．これより，\n",
    "\n",
    "$$\n",
    "(\\boldsymbol{t}^{T}\\boldsymbol{X}\\boldsymbol{w})^{T} = \\boldsymbol{t}^{T}\\boldsymbol{X}\\boldsymbol{w} = \\boldsymbol{w}^{T} \\boldsymbol{X}^{T} \\boldsymbol{t}\n",
    "$$\n",
    "\n",
    "を導くことができます．目的関数を $\\mathcal{L}$ とおくと，上の式を利用して，\n",
    "\n",
    "$$\n",
    "\\begin{aligned}\n",
    "\\mathcal{L}=\\boldsymbol{t}^{T}\\boldsymbol{t}-2\\boldsymbol{t}^{T}\\boldsymbol{X}\\boldsymbol{w} + \\boldsymbol{w}^{T}\\boldsymbol{X}^{T}\\boldsymbol{X}\\boldsymbol{w}\\\\\n",
    "\\end{aligned}\n",
    "$$\n",
    "\n",
    "とまとめることができます．ここで， $\\boldsymbol{w}$ に関する偏微分を行っていくため， $\\boldsymbol{w}$ 以外の定数項をまとめていくと，\n",
    "\n",
    "$$\n",
    "\\begin{aligned}\n",
    "\\mathcal{L}&=\\boldsymbol{t}^{T}\\boldsymbol{t}-2\\boldsymbol{t}^{T}\\boldsymbol{X}\\boldsymbol{w}+\\boldsymbol{w}^{T}\\boldsymbol{X}^{T}\\boldsymbol{X}\\boldsymbol{w}\\\\\n",
    "&=\\boldsymbol{t}^{T}\\boldsymbol{t}-2\\left( \\boldsymbol{X}^{T}\\boldsymbol{t}\\right)^{T} \\boldsymbol{w}+\\boldsymbol{w}^{T}\\boldsymbol{X}^{T}\\boldsymbol{X}\\boldsymbol{w} \\\\\n",
    "&= \\gamma + \\boldsymbol{\\beta}^{T}\\boldsymbol{w} + \\boldsymbol{w}^{T}\\boldsymbol{A}\\boldsymbol{w} \n",
    "\\end{aligned}\n",
    "$$\n",
    "\n",
    "のように，線形代数で学んだ $\\boldsymbol{w}$ に関する二次形式（二次関数）で表現することができました．ここで，$\\boldsymbol{A}= \\boldsymbol{X}^{T}\\boldsymbol{X}, \\ \\boldsymbol{\\beta} =-2 \\boldsymbol{X}^{T}\\boldsymbol{t}, \\ \\gamma = \\boldsymbol{t}^{T}\\boldsymbol{t}$ であり，$\\boldsymbol{\\beta}$ を転置の形式にした理由は，線形代数で学んだベクトルで微分の公式の形式に合わせるための工夫です．\n",
    "\n",
    "それでは，目的関数を最小化することができるパラメータ $\\boldsymbol{w}$ の求め方を考えましょう．先述の通り，目的関数はパラメータ $\\boldsymbol{w}$に関して二次関数です．例えば，\n",
    "\n",
    "$$\n",
    "\\begin{aligned}\n",
    "\\boldsymbol{w} = \\begin{bmatrix}\n",
    "w_{1} \\\\ w_{2}\n",
    "\\end{bmatrix}, \n",
    "\\boldsymbol{A}=\\begin{bmatrix}\n",
    "1 & 2 \\\\\n",
    "3 & 4\n",
    "\\end{bmatrix},\\boldsymbol{\\beta}=\\begin{bmatrix}\n",
    "1 \\\\\n",
    "2\n",
    "\\end{bmatrix}, \\gamma = 1 \n",
    "\\end{aligned} \n",
    "$$ \n",
    "\n",
    "のように具体的な数値例で考えてみると，\n",
    "\n",
    "$$\n",
    "\\begin{aligned} \n",
    "\\mathcal{L} & = \n",
    "\\boldsymbol{w}^{T}\\boldsymbol{A}\\boldsymbol{w} + \\boldsymbol{\\beta}^{T}\\boldsymbol{w} + \\gamma \\\\ \n",
    "&=\n",
    "\\begin{bmatrix}\n",
    "w_{1} & w_{2}\n",
    "\\end{bmatrix}\\begin{bmatrix}\n",
    "1 & 2 \\\\\n",
    "3 & 4\n",
    "\\end{bmatrix}\\begin{bmatrix}\n",
    "w_{1} \\\\\n",
    "w_{2}\n",
    "\\end{bmatrix}\n",
    "+\\begin{bmatrix}\n",
    "1 & 2\n",
    "\\end{bmatrix} \\begin{bmatrix} \n",
    "w_{1} \\\\ \n",
    "w_{2} \n",
    "\\end{bmatrix} + 1 \\\\ \n",
    "&=\n",
    "\\begin{bmatrix} \n",
    "w_{1} & w_{2} \n",
    "\\end{bmatrix} \n",
    "\\begin{bmatrix} \n",
    "w_{1} + 2w_{2} \\\\ \n",
    "3w_{1} + 4w_{2} \n",
    "\\end{bmatrix} + w_{1} + 2w_{2} + 1 \\\\ \n",
    "&=w_{1}\\left( w_{1} + 2w_{2}\\right) + w_{2}\\left( 3w_{1} + 4w_{2}\\right) + w_{1} + 2w_{2} + 1 \\\\ \n",
    "&=w^{2}_{1} + 5w_{1}w_{2} + 4w^{2}_{2} + w_{1} + 2w_{2}+1 \\\\ \n",
    "\\end{aligned}\n",
    "$$\n",
    "\n",
    "となり，$w_{1}, w_{2}$に関してそれぞれまとめると，\n",
    "\n",
    "$$\n",
    "\\begin{aligned}\n",
    "\\mathcal{L}\n",
    "&= w^{2}_{1} + \\left( 5w_{2} + 1\\right) w_{1} + \n",
    "\\left( 4w^{2}_{2}+2w_{2}+1\\right) \\\\ \n",
    "&=4w^{2}_{2} + \\left(5w_{1} + 2\\right) w_{2} + \\left( w^{2}_{1} + w_{1} + 1\\right) \\end{aligned} \n",
    "$$\n",
    "\n",
    "のようにそれぞれの二次関数であることがわかります．\n",
    "\n",
    "そして，二次関数であれば，下図のような形となります．\n",
    "\n",
    "![パラメータと目的関数の関係（2次元）](https://github.com/japan-medical-ai/medical-ai-course-materials/raw/master/notebooks/images/2/06.png)\n",
    "\n",
    "これを3次元でイメージすると，下図のようになります．\n",
    "\n",
    "![パラメータと目的関数の関係（3次元）](https://github.com/japan-medical-ai/medical-ai-course-materials/raw/master/notebooks/images/2/08.png)\n",
    "\n",
    "そして，目的関数である二乗誤差の総和が最小となる点では各変数で微分した時の傾きが0となります．\n",
    "\n",
    "![目的関数が最小となる点](https://github.com/japan-medical-ai/medical-ai-course-materials/raw/master/notebooks/images/2/07.png)\n",
    "\n",
    "この例では，$w_{1}$ と $w_{2}$ の２つのパラメータの場合で考えましたが，これは $w_{0}$, $w_{1}$, $w_{2}$, $\\ldots$, $w_{M}$ の場合でも同様に考えることができ，目的関数が最小となる点は\n",
    "\n",
    "$$\n",
    "\\begin{cases}\n",
    "\\dfrac {\\partial }{\\partial w_{0}}\\mathcal{L}=0\\\\\n",
    "\\dfrac {\\partial }{\\partial w_{1}}\\mathcal{L}=0\\\\\n",
    "\\ \\ \\ \\ \\ \\vdots \\\\\n",
    "\\dfrac {\\partial }{\\partial w_{M}}\\mathcal{L}=0\\\\\n",
    "\\end{cases}\n",
    "$$\n",
    "\n",
    "となり，これをまとめると，\n",
    "\n",
    "$$\n",
    "\\begin{aligned}\n",
    "\\begin{bmatrix}\n",
    "\\dfrac {\\partial}{\\partial w_{0}} \\mathcal{L} \\\\\n",
    "\\dfrac {\\partial}{\\partial w_{1}} \\mathcal{L} \\\\\n",
    "\\vdots  \\\\\n",
    "\\dfrac {\\partial}{\\partial w_{M}} \\mathcal{L} \\\\\n",
    "\\end{bmatrix}&=\\begin{bmatrix}\n",
    "0 \\\\\n",
    "0 \\\\\n",
    "\\vdots  \\\\\n",
    "0 \\\\\n",
    "\\end{bmatrix} \\\\\n",
    "\\Rightarrow \\dfrac {\\partial}{\\partial \\boldsymbol{w}} \\mathcal{L} &= \\boldsymbol{0} \\\\\n",
    "\\end{aligned}\n",
    "$$\n",
    "\n",
    "のようにベクトルでの微分として表されます．あとは，上式を満たすように $\\boldsymbol{w}$ を決めていきます．まずは$\\boldsymbol{w}$を求めやすくなるように，代入と式変形を行います．（下記の計算にはベクトルでの微分をはじめとして，線形代数で学んだ内容を活用しているため，計算途中がわからなくなった場合には，線形代数のパートを確認しながら進めてみてください．）\n",
    "\n",
    "$$\n",
    "\\begin{aligned}\n",
    "\\dfrac {\\partial }{\\partial \\boldsymbol{w}}\\mathcal{L} =\\dfrac {\\partial }{\\partial \\boldsymbol{w}}\\left( \\gamma + \\boldsymbol{\\beta}^{T}\\boldsymbol{w} + \\boldsymbol{w}^{T}\\boldsymbol{A}\\boldsymbol{w}\\right)\n",
    "= \\boldsymbol{0}\\\\\n",
    "\\dfrac {\\partial }{\\partial \\boldsymbol{w}}\\left( \\gamma\\right) +\\dfrac {\\partial }{\\partial \\boldsymbol{w}}\\left( \\boldsymbol{\\beta}^{T}\\boldsymbol{w}\\right) +\\dfrac {\\partial }{\\partial \\boldsymbol{w}}\\left( \\boldsymbol{w}^{T}\\boldsymbol{A}\\boldsymbol{w}\\right) \n",
    "=\\boldsymbol{0}\\\\\n",
    "\\boldsymbol{0}+\\boldsymbol{\\beta}+\\left( \\boldsymbol{A}+\\boldsymbol{A}^{T}\\right) \\boldsymbol{w} =\\boldsymbol{0}\\\\\n",
    "-2\\boldsymbol{X}^{T}\\boldsymbol{t}+\\left\\{ \\boldsymbol{X}^{T}\\boldsymbol{X} + \\left( \\boldsymbol{X}^{T}\\boldsymbol{X}\\right)^{T}\\right\\} \\boldsymbol{w}\n",
    "=\\boldsymbol{0}\\\\\n",
    "-2\\boldsymbol{X}^{T}\\boldsymbol{t}+2\\boldsymbol{X}^{T}\\boldsymbol{X}\\boldsymbol{w}=\\boldsymbol{0}\\\\\n",
    "\\boldsymbol{X}^{T}\\boldsymbol{X}\\boldsymbol{w}=\\boldsymbol{X}^{T}\\boldsymbol{t}\\\\\n",
    "\\end{aligned}\n",
    "$$\n",
    "\n",
    "ここで，$\\boldsymbol{X}^{T} \\boldsymbol{X}$に逆行列が存在すると仮定して，両辺に左側から $\\left( \\boldsymbol{X}^{T}\\boldsymbol{X}\\right)^{-1}$ をかけると，\n",
    "\n",
    "$$\n",
    "\\begin{aligned}\n",
    "\\left( \\boldsymbol{X}^{T}\\boldsymbol{X}\\right)^{-1}\\boldsymbol{X}^{T}\\boldsymbol{X} \\boldsymbol{w} =\\left( \\boldsymbol{X}^{T}\\boldsymbol{X}\\right)^{-1}\\boldsymbol{X}^{T}\\boldsymbol{t} \\\\\n",
    "\\boldsymbol{I}\\boldsymbol{w}=\\left( \\boldsymbol{X}^{T}\\boldsymbol{X}\\right)^{-1}\\boldsymbol{X}^{T}\\boldsymbol{t} \\\\\n",
    "\\boldsymbol{w}=\\left( \\boldsymbol{X}^{T}\\boldsymbol{X}\\right)^{-1}\\boldsymbol{X}^{T}\\boldsymbol{t}\n",
    "\\end{aligned}\n",
    "$$\n",
    "\n",
    "となり，与えられたデータセット $\\boldsymbol{X}, \\boldsymbol{t}$ から，最適なパラメータ $\\boldsymbol{w}$ が求まりました．ここで，$\\boldsymbol{I}$ は単位行列です．また，式変形の際には，\n",
    "\n",
    "$$\n",
    "\\boldsymbol{w} = \\dfrac{\\boldsymbol{X}^{T}\\boldsymbol{t}}{\\boldsymbol{X}^{T}\\boldsymbol{X}}\n",
    "$$\n",
    "\n",
    "のような分数が表れないように注意してください．これは行列の計算には割り算がないためです．そのため，逆行列を使って行列積のみで計算しています．\n",
    "\n",
    "また，もうひとつよくある間違いとして，$\\boldsymbol{w}$を求めるために以下のような式変形をしてしまう例が挙げられます．\n",
    "\n",
    "$$\n",
    "\\begin{aligned}\n",
    "\\boldsymbol{X}^{T}\\boldsymbol{X}\\boldsymbol{w}&=\\boldsymbol{X}^{T}\\boldsymbol{t}\\\\\n",
    "\\left( \\boldsymbol{X}^{T}\\right)^{-1}\\boldsymbol{X}^{T}\\boldsymbol{X}\\boldsymbol{w}&=\\left( \\boldsymbol{X}^{T}\\right)^{-1}\\boldsymbol{X}^{T}\\boldsymbol{t}\\\\\n",
    "\\boldsymbol{X}\\boldsymbol{w}&=\\boldsymbol{t}\\\\\n",
    "\\boldsymbol{X}^{-1}\\boldsymbol{X}\\boldsymbol{w}&=\\boldsymbol{X}^{-1}\\boldsymbol{t}\\\\\n",
    "\\boldsymbol{w}&=\\boldsymbol{X}^{-1}\\boldsymbol{t}\n",
    "\\end{aligned}\n",
    "$$\n",
    "\n",
    "しかし，これは一般的には成立しません．その理由は，逆行列を持つための条件として，**正方行列であること**を満たしていないためです．一般的に，サンプル数 $N$ と入力変数の数 $M+1$ は等しくないため，$\\boldsymbol{X} \\in \\mathcal{R}^{N \\times (M+1)}$ は正方行列ではなく，逆行列をもちません．それに対し， $\\boldsymbol{X}^{T} \\boldsymbol{X}$ は $\\boldsymbol{X}^{T}\\boldsymbol{X} \\in \\mathcal{R}^{(M+1) \\times (M+1)}$ となり，サンプル数 $N$ に依存することなく，常に正方行列となります．（逆行列が求まるためにはもう少し厳密な条件がありますが，ここでは説明しません．）\n",
    "\n",
    "推論の際は学習で得られたパラメータ $\\boldsymbol{w}$ を用いて，\n",
    "\n",
    "$$\n",
    "y_{q} = \\boldsymbol{w}^{T}\\boldsymbol{x}_{q}\n",
    "$$\n",
    "\n",
    "のように計算することで予測値が得られます．\n",
    "\n",
    "## NumPyによる実装\n",
    "\n",
    "それでは重回帰分析を例に，Pythonで線形代数を用いた実装を行っていきましょう．Pythonには**NumPy**とよばれる線形代数を簡単に扱えるライブラリが存在し，広く利用されています．次の章で紹介するChainerの中でもNumPyは多用されており，ディープラーニングを学ぶための第一歩として，まずはNumPyの使い方を習得することが重要です．\n",
    "\n",
    "Pythonの文法に関しては把握していることを前提に進めています．具体的には，変数（数値・文字列，リスト，タプル，辞書），制御構文（for，if），関数，クラスを理解している必要があります．\n",
    "\n",
    "重回帰分析では，最終的に最適なパラメータ $\\boldsymbol{w}$ が\n",
    "\n",
    "$$\n",
    "\\boldsymbol{w}=\\left( \\boldsymbol{X}^{T}\\boldsymbol{X}\\right)^{-1}\\boldsymbol{X}^{T}\\boldsymbol{t}\n",
    "$$\n",
    "\n"
   ]
  },
  {
   "cell_type": "markdown",
   "metadata": {
    "colab_type": "text",
    "id": "63jvxwSk2Y28"
   },
   "source": [
    "で表されることが分かりました．この最適なパラメータを計算するために，以下の5つを扱います．\n",
    "\n",
    "- ベクトルの定義\n",
    "- 行列の定義\n",
    "- 転置\n",
    "- 行列積\n",
    "- 逆行列\n",
    "\n",
    "具体的に，以下のようなデータセットが与えられているケースを想定してみましょう．この例では，データのサンプル数$N$は$4$であり，入力データ$X$の変数の数は$2$です．そして$t$は教師データとなります．\n",
    "\n",
    "$$\n",
    "\\boldsymbol{X} = \n",
    "\\begin{bmatrix}\n",
    "1 & 2 & 3 \\\\\n",
    "1 & 2 & 5 \\\\\n",
    "1 & 3 & 4 \\\\  \n",
    "1 & 5 & 9 \n",
    "\\end{bmatrix}, \\\n",
    "\\boldsymbol{t} = \n",
    "\\begin{bmatrix}\n",
    "1 \\\\ 5 \\\\ 6 \\\\ 8\n",
    "\\end{bmatrix}\n",
    "$$\n",
    "\n",
    "ここで$\\boldsymbol{X}$は **パラメータ** $\\boldsymbol{w}$ **がバイアス** $\\boldsymbol{b}$ **を包含する** 形式を想定しており，従って入力データ$\\boldsymbol{X}$の1列目には$1$が格納されています．\n",
    "\n",
    "それでは実装方法について見ていきましょう．まずは，NumPyの読み込みから始めます．"
   ]
  },
  {
   "cell_type": "code",
   "execution_count": 2,
   "metadata": {
    "colab": {},
    "colab_type": "code",
    "id": "vEy_FvRJ2Y2_"
   },
   "outputs": [],
   "source": [
    "import numpy as np"
   ]
  },
  {
   "cell_type": "markdown",
   "metadata": {
    "colab_type": "text",
    "id": "43TxMSHH2Y3C"
   },
   "source": [
    "ベクトルの定義は以下のように行います．"
   ]
  },
  {
   "cell_type": "code",
   "execution_count": 3,
   "metadata": {
    "colab": {},
    "colab_type": "code",
    "id": "sQd-4mXv2Y3D"
   },
   "outputs": [],
   "source": [
    "t = np.array([1, 5, 6, 8])"
   ]
  },
  {
   "cell_type": "markdown",
   "metadata": {
    "colab_type": "text",
    "id": "W1eFys0AIIR8"
   },
   "source": [
    "ベクトルを表示してみましょう．"
   ]
  },
  {
   "cell_type": "code",
   "execution_count": 4,
   "metadata": {
    "colab": {
     "base_uri": "https://localhost:8080/",
     "height": 34
    },
    "colab_type": "code",
    "id": "Z_fjFYsu2Y3H",
    "outputId": "45bf4612-4c9c-47ab-d663-8b580db10bce"
   },
   "outputs": [
    {
     "name": "stdout",
     "output_type": "stream",
     "text": [
      "[1 5 6 8]\n"
     ]
    }
   ],
   "source": [
    "print(t)"
   ]
  },
  {
   "cell_type": "markdown",
   "metadata": {
    "colab_type": "text",
    "id": "lvE4dLpP2Y3P"
   },
   "source": [
    "行列の定義も行い，表示してみましょう．"
   ]
  },
  {
   "cell_type": "code",
   "execution_count": 5,
   "metadata": {
    "colab": {},
    "colab_type": "code",
    "id": "wxbCgDEl2Y3R"
   },
   "outputs": [],
   "source": [
    "X = np.array([\n",
    "    [1, 2, 3],\n",
    "    [1, 2, 5],\n",
    "    [1, 3, 4],\n",
    "    [1, 5, 9]\n",
    "])"
   ]
  },
  {
   "cell_type": "code",
   "execution_count": 6,
   "metadata": {
    "colab": {
     "base_uri": "https://localhost:8080/",
     "height": 85
    },
    "colab_type": "code",
    "id": "UdFu-c3p2Y3W",
    "outputId": "bc6e6bf6-a645-4f95-fe3a-c7ad756de82b"
   },
   "outputs": [
    {
     "name": "stdout",
     "output_type": "stream",
     "text": [
      "[[1 2 3]\n",
      " [1 2 5]\n",
      " [1 3 4]\n",
      " [1 5 9]]\n"
     ]
    }
   ],
   "source": [
    "print(X)"
   ]
  },
  {
   "cell_type": "markdown",
   "metadata": {
    "colab_type": "text",
    "id": "3Dej1LjB2Y3f"
   },
   "source": [
    "ここでは`np.array`という関数を用いて，PythonのリストからNumPyの多次元配列の形式(`np.ndarray`)への変換を行っています．\n",
    "\n",
    "次に，Xの転置を行ってみましょう．`np.ndarray`で定義されている場合，`.T`をつけるだけで転置することができます．"
   ]
  },
  {
   "cell_type": "code",
   "execution_count": 7,
   "metadata": {
    "colab": {
     "base_uri": "https://localhost:8080/",
     "height": 68
    },
    "colab_type": "code",
    "id": "Sc1SrowF2Y3g",
    "outputId": "f25a0d94-7eb3-412c-be74-01b0562bafeb"
   },
   "outputs": [
    {
     "name": "stdout",
     "output_type": "stream",
     "text": [
      "[[1 1 1 1]\n",
      " [2 2 3 5]\n",
      " [3 5 4 9]]\n"
     ]
    }
   ],
   "source": [
    "print(X.T)"
   ]
  },
  {
   "cell_type": "markdown",
   "metadata": {
    "colab_type": "text",
    "id": "gXWmTlNM2Y3n"
   },
   "source": [
    "縦と横が入れ替わっていることを確認できます．\n",
    "\n",
    "行列積は以下のように `np.dot` によって実現できます．行列積を行う際には，一番目の行列の列数と，二番目の行列の行数が同じであることに注意して下さい．"
   ]
  },
  {
   "cell_type": "code",
   "execution_count": 8,
   "metadata": {
    "colab": {},
    "colab_type": "code",
    "id": "v5Qm-akG2Y3o"
   },
   "outputs": [],
   "source": [
    "XX = np.dot(X.T, X)"
   ]
  },
  {
   "cell_type": "code",
   "execution_count": 9,
   "metadata": {
    "colab": {
     "base_uri": "https://localhost:8080/",
     "height": 68
    },
    "colab_type": "code",
    "id": "K2BpUnAW2Y3u",
    "outputId": "7056511c-633f-49b3-9880-1f49473aa3cf"
   },
   "outputs": [
    {
     "name": "stdout",
     "output_type": "stream",
     "text": [
      "[[  4  12  21]\n",
      " [ 12  42  73]\n",
      " [ 21  73 131]]\n"
     ]
    }
   ],
   "source": [
    "print(XX)"
   ]
  },
  {
   "cell_type": "markdown",
   "metadata": {
    "colab_type": "text",
    "id": "cwDD9lQc2Y34"
   },
   "source": [
    "ここからさらに，$\\boldsymbol{X}^{T}\\boldsymbol{X}$に対する逆行列，$\\left(\\boldsymbol{X}^{T}\\boldsymbol{X}\\right)^{-1}$を計算します．逆行列を求めるには，`np.linalg.inv` を用います．"
   ]
  },
  {
   "cell_type": "code",
   "execution_count": 10,
   "metadata": {
    "colab": {},
    "colab_type": "code",
    "id": "vTS7OiuF2Y36"
   },
   "outputs": [],
   "source": [
    "XX_inv = np.linalg.inv(XX)"
   ]
  },
  {
   "cell_type": "code",
   "execution_count": 12,
   "metadata": {
    "colab": {
     "base_uri": "https://localhost:8080/",
     "height": 68
    },
    "colab_type": "code",
    "id": "yUFnXFgH2Y4B",
    "outputId": "fd3a33dc-27b5-4384-b6fa-7e75f440f6b9"
   },
   "outputs": [
    {
     "name": "stdout",
     "output_type": "stream",
     "text": [
      "[[ 1.76530612 -0.39795918 -0.06122449]\n",
      " [-0.39795918  0.84693878 -0.40816327]\n",
      " [-0.06122449 -0.40816327  0.24489796]]\n"
     ]
    }
   ],
   "source": [
    "print(XX_inv)"
   ]
  },
  {
   "cell_type": "markdown",
   "metadata": {
    "colab_type": "text",
    "id": "S4UccbfX2Y4H"
   },
   "source": [
    "これで重回帰分析のために必要な演算が揃いました．\n",
    "\n",
    "最適なパラメータ$\\left(\\boldsymbol{X}^{T}\\boldsymbol{X}\\right)^{-1}\\boldsymbol{X}^{T}\\boldsymbol{t}$を求めると，"
   ]
  },
  {
   "cell_type": "code",
   "execution_count": 13,
   "metadata": {
    "colab": {},
    "colab_type": "code",
    "id": "MUDf1lul2Y4I"
   },
   "outputs": [],
   "source": [
    "Xt = np.dot(X.T, t)"
   ]
  },
  {
   "cell_type": "code",
   "execution_count": 14,
   "metadata": {
    "colab": {
     "base_uri": "https://localhost:8080/",
     "height": 34
    },
    "colab_type": "code",
    "id": "4woi1AWA2Y4P",
    "outputId": "878978be-1186-42b2-c9c6-dc85f694dff8"
   },
   "outputs": [
    {
     "name": "stdout",
     "output_type": "stream",
     "text": [
      "[ 20  70 124]\n"
     ]
    }
   ],
   "source": [
    "print(Xt)"
   ]
  },
  {
   "cell_type": "code",
   "execution_count": 15,
   "metadata": {
    "colab": {},
    "colab_type": "code",
    "id": "E2PDggtE2Y4U"
   },
   "outputs": [],
   "source": [
    "w = np.dot(XX_inv, Xt)"
   ]
  },
  {
   "cell_type": "code",
   "execution_count": 16,
   "metadata": {
    "colab": {
     "base_uri": "https://localhost:8080/",
     "height": 34
    },
    "colab_type": "code",
    "id": "f0ldbwNx2Y4Y",
    "outputId": "b4244c83-059e-46c6-fd39-0198992007e6"
   },
   "outputs": [
    {
     "name": "stdout",
     "output_type": "stream",
     "text": [
      "[-0.14285714  0.71428571  0.57142857]\n"
     ]
    }
   ],
   "source": [
    "print(w)"
   ]
  },
  {
   "cell_type": "markdown",
   "metadata": {
    "colab_type": "text",
    "id": "lwbp0Oe52Y4d"
   },
   "source": [
    "このようにパラメータ $\\boldsymbol{w}$ が求まりました．NumPyを使うことで，数式をそのままプログラム上で書くことができます．"
   ]
  },
  {
   "cell_type": "markdown",
   "metadata": {
    "colab_type": "text",
    "id": "nOcnH9gD2Y4f"
   },
   "source": [
    "## Scikit-learnによる機械学習アルゴリズムの実行"
   ]
  },
  {
   "cell_type": "markdown",
   "metadata": {
    "colab_type": "text",
    "id": "3U87Nhu12Y4h"
   },
   "source": [
    "\n",
    "重回帰分析であればNumPyで比較的容易に実装することができましたが，実践的に使用する機械学習アルゴリズムの多くは複雑であり，初学者が一から書くには難しい場合も少なくありません．そこで，Pythonでは**Scikit-learn**とよばれる機械学習用のフレームワークが公開されており，初学者でも簡単に様々な機械学習アルゴリズムを扱うことができます．\n",
    "\n",
    "ここでは重回帰分析の，**Scikit-learnを用いた実装方法**を紹介します．データセットは先程と同様に$\\boldsymbol{X}$と$\\boldsymbol{t}$を使用しますが，Scikit-learnにおいては， **パラメータ** $\\boldsymbol{w}$ **がバイアス** $\\boldsymbol{b}$ **を包含しない** 形式を想定しており，入力データ$\\boldsymbol{X}$の1列目から$1$を取り除くのが一般的です．従って，\n",
    "\n",
    "$$\n",
    "\\boldsymbol{X} = \n",
    "\\begin{bmatrix}\n",
    "2 & 3 \\\\\n",
    "2 & 5 \\\\\n",
    "3 & 4 \\\\  \n",
    "5 & 9 \n",
    "\\end{bmatrix}, \\\n",
    "\\boldsymbol{t} = \n",
    "\\begin{bmatrix}\n",
    "1 \\\\ 5 \\\\ 6 \\\\ 8\n",
    "\\end{bmatrix}\n",
    "$$\n",
    "\n",
    "が与えられているとします．\n",
    "\n",
    "### Scikit-learn 基礎編\n",
    "\n",
    "Scikit-learnは`sklearn`という名前で呼び出すことができます．"
   ]
  },
  {
   "cell_type": "code",
   "execution_count": 0,
   "metadata": {
    "colab": {},
    "colab_type": "code",
    "id": "PvEybj2F2Y4i"
   },
   "outputs": [],
   "source": [
    "import sklearn"
   ]
  },
  {
   "cell_type": "markdown",
   "metadata": {
    "colab_type": "text",
    "id": "i5a4UQLC2Y4n"
   },
   "source": [
    "重回帰分析を使用する場合は以下のように呼び出します．"
   ]
  },
  {
   "cell_type": "code",
   "execution_count": 13,
   "metadata": {
    "colab": {},
    "colab_type": "code",
    "id": "JroSiyCK2Y4p"
   },
   "outputs": [],
   "source": [
    "from sklearn.linear_model import LinearRegression"
   ]
  },
  {
   "cell_type": "markdown",
   "metadata": {
    "colab_type": "text",
    "id": "4KGFnf-R2Y4v"
   },
   "source": [
    "なお，使い方を調べる際には，[公式のリファレンス](http://scikit-learn.org/)に加えて，実際のコード例を見るのも有用です（例えば検索エンジンで「重回帰分析 Scikit-learn」のようなキーワードで検索すればたくさんのコード例が見つかります）．\n",
    "\n",
    "重回帰分析のアルゴリズムはクラスとして定義されており，実際のモデルを利用するにはインスタンス化する必要があります．\n",
    "インスタンス化はクラス名の後に`()`をつければ行えます．\n"
   ]
  },
  {
   "cell_type": "code",
   "execution_count": 0,
   "metadata": {
    "colab": {},
    "colab_type": "code",
    "id": "r4423bMx2Y4y"
   },
   "outputs": [],
   "source": [
    "model = LinearRegression()"
   ]
  },
  {
   "cell_type": "markdown",
   "metadata": {
    "colab_type": "text",
    "id": "6BGDOxEL2Y42"
   },
   "source": [
    "これだけで，重回帰分析を使用するための準備が完了です．このモデルを使って，パラメータの学習は以下のように行います．"
   ]
  },
  {
   "cell_type": "code",
   "execution_count": 0,
   "metadata": {
    "colab": {
     "base_uri": "https://localhost:8080/",
     "height": 34
    },
    "colab_type": "code",
    "id": "zxe9Bd9_2Y44",
    "outputId": "6b58551b-1728-4d8e-f2fc-625b774963d9"
   },
   "outputs": [
    {
     "data": {
      "text/plain": [
       "LinearRegression(copy_X=True, fit_intercept=True, n_jobs=1, normalize=False)"
      ]
     },
     "execution_count": 21,
     "metadata": {
      "tags": []
     },
     "output_type": "execute_result"
    }
   ],
   "source": [
    "X = np.array([\n",
    "    [2, 3],\n",
    "    [2, 5],\n",
    "    [3, 4],\n",
    "    [5, 9]\n",
    "])\n",
    "t = np.array([1, 5, 6, 8])\n",
    "\n",
    "model.fit(X, t)"
   ]
  },
  {
   "cell_type": "markdown",
   "metadata": {
    "colab_type": "text",
    "id": "iWySchd_2Y47"
   },
   "source": [
    "結果の検証は，次のように行います．"
   ]
  },
  {
   "cell_type": "code",
   "execution_count": 0,
   "metadata": {
    "colab": {
     "base_uri": "https://localhost:8080/",
     "height": 34
    },
    "colab_type": "code",
    "id": "vn_lB9C_2Y48",
    "outputId": "50c767fe-fa79-439c-e2e8-03f138328fa5"
   },
   "outputs": [
    {
     "data": {
      "text/plain": [
       "0.6923076923076923"
      ]
     },
     "execution_count": 22,
     "metadata": {
      "tags": []
     },
     "output_type": "execute_result"
    }
   ],
   "source": [
    "model.score(X, t)"
   ]
  },
  {
   "cell_type": "markdown",
   "metadata": {
    "colab_type": "text",
    "id": "lzM69ESp2Y5E"
   },
   "source": [
    "回帰の場合は，以下の式で示される，**決定係数**とよばれる指標が自動的に計算されるようになっています．\n",
    "\n",
    "$$\n",
    "R^{2} = 1 - \\dfrac{\\sum_{i}\\left( t_{i} - y_{i} \\right)^{2}}{\\sum_{i}\\left( t_{i} - \\bar{t} \\right)^{2}}\n",
    "$$\n",
    "\n",
    "このように，Scikit-learnでは，簡単なインターフェースでやり取りができるようになっています．Scikit-learnの良い点は，最初にアルゴリズムを決めてしまえば，どのアルゴリズムでも，`.fit()`で学習，`.score()`で検証が行える点です．\n",
    "\n",
    "また，アルゴリズムによって内容は多少異なりますが，パラメータもインスタンス変数として格納されているため，学習後に確認することができます．"
   ]
  },
  {
   "cell_type": "code",
   "execution_count": 0,
   "metadata": {
    "colab": {
     "base_uri": "https://localhost:8080/",
     "height": 34
    },
    "colab_type": "code",
    "id": "mkj5j0as2Y5F",
    "outputId": "64b83d57-e6bc-4995-8bdf-5a236c25fd5f"
   },
   "outputs": [
    {
     "data": {
      "text/plain": [
       "array([0.71428571, 0.57142857])"
      ]
     },
     "execution_count": 23,
     "metadata": {
      "tags": []
     },
     "output_type": "execute_result"
    }
   ],
   "source": [
    "# パラメータw\n",
    "model.coef_"
   ]
  },
  {
   "cell_type": "code",
   "execution_count": 0,
   "metadata": {
    "colab": {
     "base_uri": "https://localhost:8080/",
     "height": 34
    },
    "colab_type": "code",
    "id": "XUFluRmk2Y5L",
    "outputId": "3a442a2b-7f15-4633-b919-5f7f0e76bbfc"
   },
   "outputs": [
    {
     "data": {
      "text/plain": [
       "-0.14285714285714501"
      ]
     },
     "execution_count": 24,
     "metadata": {
      "tags": []
     },
     "output_type": "execute_result"
    }
   ],
   "source": [
    "# バイアスb\n",
    "model.intercept_"
   ]
  },
  {
   "cell_type": "markdown",
   "metadata": {
    "colab_type": "text",
    "id": "ZXxRn6-G2Y5W"
   },
   "source": [
    "### Scikit-learn 応用編\n",
    "\n",
    "Scikit-learnは機械学習の実装を支援する多くの機能を兼ね備えています．本節では，サンプルデータセットの使用方法，及びデータセットの分割方法について紹介していきます．\n",
    "\n",
    "#### サンプルデータセットの使用\n",
    "\n",
    "まずはじめにサンプルデータセットの取り扱いを紹介します．Scikit-learnでは，幾つかのデータセットが提供されています．今回はその中から，米国ボストン市郊外における地域別の物件価格のデータセットを使用することにします．\n",
    "\n",
    "このデータセットには$506$件のデータが登録されており，各サンプルには対象地域の平均物件価格と，それに紐づく情報として対象地域の平均的な物件情報（一戸あたりの部屋数，築年数，雇用施設からの距離など），人口統計情報（低所得者の割合，教師あたりの生徒数など），生活環境に関する情報（犯罪発生率など）などが含まれています．このデータセットを利用する目的は，物件や人口統計などの情報を入力変数として，出力変数である平均物件価格を予測するモデルを構築することです．\n",
    "入力変数は全部で13種類あり，詳細は以下の通りです．\n",
    "\n",
    "* CRIM : 人口$1$人あたりの犯罪発生率\n",
    "* ZN : $25,000$平方フィート以上の住宅区画が占める割合\n",
    "* INDUS : 非小売業が占める面積の割合\n",
    "* CHAS : チャールズ川に関するダミー変数 (1 : 川沿い，0 : それ以外)\n",
    "* NOX : 窒素酸化物の濃度\n",
    "* RM : 住居あたりの平均部屋数\n",
    "* AGE : 1940年以前に建てられた物件の割合\n",
    "* DIS : 5つのボストン雇用施設からの重み付き距離\n",
    "* RAD : 都心部の幹線道路へのアクセス指数\n",
    "* TAX : \\$ $10,000$あたりの固定資産税の割合\n",
    "* PTRATIO : 教師1人あたりの生徒数\n",
    "* B : 黒人の比率を表す指数\n",
    "* LSTAT : 低所得者の割合\n",
    "\n",
    "それでは， `load_boston()` 関数を実行して，データセットを読み込んでみましょう．\n"
   ]
  },
  {
   "cell_type": "code",
   "execution_count": 1,
   "metadata": {
    "colab": {},
    "colab_type": "code",
    "id": "pwlomQyI2Y5Y"
   },
   "outputs": [],
   "source": [
    "from sklearn.datasets import load_diabetes"
   ]
  },
  {
   "cell_type": "code",
   "execution_count": 2,
   "metadata": {
    "colab": {},
    "colab_type": "code",
    "id": "LbYctuQb2Y5b"
   },
   "outputs": [],
   "source": [
    "diabetes = load_diabetes()"
   ]
  },
  {
   "cell_type": "markdown",
   "metadata": {
    "colab_type": "text",
    "id": "P_pxoCJ2JVl5"
   },
   "source": []
  },
  {
   "cell_type": "markdown",
   "metadata": {
    "colab_type": "text",
    "id": "8dC8gbSa2Y5f"
   },
   "source": [
    "変数の`boston`には辞書型で格納されており，変数の中身を見ながら入力データと出力データに対応するものを見つけていきます．今回は`data`が入力であり，`target`が出力に対応します．"
   ]
  },
  {
   "cell_type": "code",
   "execution_count": 3,
   "metadata": {
    "colab": {},
    "colab_type": "code",
    "id": "A1_Sk-Zg2Y5h"
   },
   "outputs": [],
   "source": [
    "X = diabetes['data']\n",
    "t = diabetes['target']"
   ]
  },
  {
   "cell_type": "code",
   "execution_count": 4,
   "metadata": {
    "colab": {
     "base_uri": "https://localhost:8080/",
     "height": 136
    },
    "colab_type": "code",
    "id": "BOx8YETS2Y5o",
    "outputId": "28cab099-f10b-415f-9f86-dc7057a2e2c9"
   },
   "outputs": [
    {
     "name": "stdout",
     "output_type": "stream",
     "text": [
      "[[ 0.03807591  0.05068012  0.06169621 ... -0.00259226  0.01990842\n",
      "  -0.01764613]\n",
      " [-0.00188202 -0.04464164 -0.05147406 ... -0.03949338 -0.06832974\n",
      "  -0.09220405]\n",
      " [ 0.08529891  0.05068012  0.04445121 ... -0.00259226  0.00286377\n",
      "  -0.02593034]\n",
      " ...\n",
      " [ 0.04170844  0.05068012 -0.01590626 ... -0.01107952 -0.04687948\n",
      "   0.01549073]\n",
      " [-0.04547248 -0.04464164  0.03906215 ...  0.02655962  0.04452837\n",
      "  -0.02593034]\n",
      " [-0.04547248 -0.04464164 -0.0730303  ... -0.03949338 -0.00421986\n",
      "   0.00306441]]\n"
     ]
    }
   ],
   "source": [
    "print(X)"
   ]
  },
  {
   "cell_type": "code",
   "execution_count": 5,
   "metadata": {
    "colab": {},
    "colab_type": "code",
    "id": "mEMzGp3p2Y5u",
    "outputId": "fa47d8c9-aca1-4f1a-bd96-2e345894c1bc"
   },
   "outputs": [
    {
     "name": "stdout",
     "output_type": "stream",
     "text": [
      "[151.  75. 141. 206. 135.  97. 138.  63. 110. 310. 101.  69. 179. 185.\n",
      " 118. 171. 166. 144.  97. 168.  68.  49.  68. 245. 184. 202. 137.  85.\n",
      " 131. 283. 129.  59. 341.  87.  65. 102. 265. 276. 252.  90. 100.  55.\n",
      "  61.  92. 259.  53. 190. 142.  75. 142. 155. 225.  59. 104. 182. 128.\n",
      "  52.  37. 170. 170.  61. 144.  52. 128.  71. 163. 150.  97. 160. 178.\n",
      "  48. 270. 202. 111.  85.  42. 170. 200. 252. 113. 143.  51.  52. 210.\n",
      "  65. 141.  55. 134.  42. 111.  98. 164.  48.  96.  90. 162. 150. 279.\n",
      "  92.  83. 128. 102. 302. 198.  95.  53. 134. 144. 232.  81. 104.  59.\n",
      " 246. 297. 258. 229. 275. 281. 179. 200. 200. 173. 180.  84. 121. 161.\n",
      "  99. 109. 115. 268. 274. 158. 107.  83. 103. 272.  85. 280. 336. 281.\n",
      " 118. 317. 235.  60. 174. 259. 178. 128.  96. 126. 288.  88. 292.  71.\n",
      " 197. 186.  25.  84.  96. 195.  53. 217. 172. 131. 214.  59.  70. 220.\n",
      " 268. 152.  47.  74. 295. 101. 151. 127. 237. 225.  81. 151. 107.  64.\n",
      " 138. 185. 265. 101. 137. 143. 141.  79. 292. 178.  91. 116.  86. 122.\n",
      "  72. 129. 142.  90. 158.  39. 196. 222. 277.  99. 196. 202. 155.  77.\n",
      " 191.  70.  73.  49.  65. 263. 248. 296. 214. 185.  78.  93. 252. 150.\n",
      "  77. 208.  77. 108. 160.  53. 220. 154. 259.  90. 246. 124.  67.  72.\n",
      " 257. 262. 275. 177.  71.  47. 187. 125.  78.  51. 258. 215. 303. 243.\n",
      "  91. 150. 310. 153. 346.  63.  89.  50.  39. 103. 308. 116. 145.  74.\n",
      "  45. 115. 264.  87. 202. 127. 182. 241.  66.  94. 283.  64. 102. 200.\n",
      " 265.  94. 230. 181. 156. 233.  60. 219.  80.  68. 332. 248.  84. 200.\n",
      "  55.  85.  89.  31. 129.  83. 275.  65. 198. 236. 253. 124.  44. 172.\n",
      " 114. 142. 109. 180. 144. 163. 147.  97. 220. 190. 109. 191. 122. 230.\n",
      " 242. 248. 249. 192. 131. 237.  78. 135. 244. 199. 270. 164.  72.  96.\n",
      " 306.  91. 214.  95. 216. 263. 178. 113. 200. 139. 139.  88. 148.  88.\n",
      " 243.  71.  77. 109. 272.  60.  54. 221.  90. 311. 281. 182. 321.  58.\n",
      " 262. 206. 233. 242. 123. 167.  63. 197.  71. 168. 140. 217. 121. 235.\n",
      " 245.  40.  52. 104. 132.  88.  69. 219.  72. 201. 110.  51. 277.  63.\n",
      " 118.  69. 273. 258.  43. 198. 242. 232. 175.  93. 168. 275. 293. 281.\n",
      "  72. 140. 189. 181. 209. 136. 261. 113. 131. 174. 257.  55.  84.  42.\n",
      " 146. 212. 233.  91. 111. 152. 120.  67. 310.  94. 183.  66. 173.  72.\n",
      "  49.  64.  48. 178. 104. 132. 220.  57.]\n"
     ]
    }
   ],
   "source": [
    "print(t)"
   ]
  },
  {
   "cell_type": "markdown",
   "metadata": {
    "colab_type": "text",
    "id": "HSmYtyiW2Y53"
   },
   "source": [
    "NumPyの形式で入力データと教師データが格納されており，`.shape`を使うことで行と列の数を確認できます．"
   ]
  },
  {
   "cell_type": "code",
   "execution_count": 6,
   "metadata": {
    "colab": {},
    "colab_type": "code",
    "id": "vpihJ3YW2Y55",
    "outputId": "865b2c7e-5f5d-4856-fea9-30733e1ce00d"
   },
   "outputs": [
    {
     "data": {
      "text/plain": [
       "(442, 10)"
      ]
     },
     "execution_count": 6,
     "metadata": {},
     "output_type": "execute_result"
    }
   ],
   "source": [
    "X.shape"
   ]
  },
  {
   "cell_type": "code",
   "execution_count": 7,
   "metadata": {
    "colab": {},
    "colab_type": "code",
    "id": "DGTdy5F42Y5_",
    "outputId": "1cdf1bf6-0441-4066-d90c-849a658a5257"
   },
   "outputs": [
    {
     "data": {
      "text/plain": [
       "(442,)"
      ]
     },
     "execution_count": 7,
     "metadata": {},
     "output_type": "execute_result"
    }
   ],
   "source": [
    "t.shape"
   ]
  },
  {
   "cell_type": "markdown",
   "metadata": {
    "colab_type": "text",
    "id": "h8kyb0Dg2Y6F"
   },
   "source": [
    "入力データの配列$X$には，$506$件分のデータが格納されています．各サンプルは$13$次元ベクトルとして表現されており，これはそれぞれ$13$種類の入力変数を表しています．教師データ$t$には，入力変数に対応する出力変数として，平均物件価格のスカラー値が格納されています．\n",
    "\n",
    "#### データセットの分割\n",
    "\n",
    "つぎに，この学習データを **訓練データ** と **テストデータ** に分割する方法をご紹介します．もし，学習の時に使ったデータを使ってモデルの性能を評価した場合，学習データの性能が高くても学習中に見たことが無い（同じような分布からとられた）未知のデータはうまくいかない場合があります．これを **過学習** とよびます．機械学習ではこれを防ぐために学習データと別に性能を評価するテストデータを分けて評価します．このように分割して検証することを **ホールドアウト法** とよびます．\n",
    "\n",
    "Scikit-learnでは訓練用とテスト用を分割する機能が用意されています．"
   ]
  },
  {
   "cell_type": "code",
   "execution_count": 8,
   "metadata": {
    "colab": {},
    "colab_type": "code",
    "id": "R5CU-k1T2Y6G"
   },
   "outputs": [],
   "source": [
    "from sklearn.model_selection import train_test_split"
   ]
  },
  {
   "cell_type": "code",
   "execution_count": 9,
   "metadata": {
    "colab": {},
    "colab_type": "code",
    "id": "76dR6BcP2Y6K"
   },
   "outputs": [],
   "source": [
    "X_train, X_test, t_train, t_test = train_test_split(X, t, test_size=0.2, random_state=7)"
   ]
  },
  {
   "cell_type": "code",
   "execution_count": 10,
   "metadata": {
    "colab": {},
    "colab_type": "code",
    "id": "pxBmPpxi2Y6R",
    "outputId": "8ed254c6-d29d-4d86-ce6d-bf420ecabdb5"
   },
   "outputs": [
    {
     "data": {
      "text/plain": [
       "(353, 10)"
      ]
     },
     "execution_count": 10,
     "metadata": {},
     "output_type": "execute_result"
    }
   ],
   "source": [
    "X_train.shape"
   ]
  },
  {
   "cell_type": "code",
   "execution_count": 11,
   "metadata": {
    "colab": {},
    "colab_type": "code",
    "id": "qyXYZGvv2Y6Y",
    "outputId": "cd6e39d0-4a4f-47fd-bdf0-fa3b2d6db442"
   },
   "outputs": [
    {
     "data": {
      "text/plain": [
       "(89, 10)"
      ]
     },
     "execution_count": 11,
     "metadata": {},
     "output_type": "execute_result"
    }
   ],
   "source": [
    "X_test.shape"
   ]
  },
  {
   "cell_type": "markdown",
   "metadata": {
    "colab_type": "text",
    "id": "tJyIbtj42Y6b"
   },
   "source": [
    "`train_test_split()` 関数の引数`test_size`は検証用に使うデータの比率であり，$0.3$と指定すると全体の$30$%がテストデータとなります．また，`random_state`は乱数のシードであり，固定のシード値を与えると，分割の再現性を確保することができます．なぜ乱数が登場するかというと，前から$70$%を訓練用，残りをテスト用とするのではなく，全体からランダムに選択した$70$%を訓練用，残り$30$%をテスト用と選択しているためです．"
   ]
  },
  {
   "cell_type": "markdown",
   "metadata": {
    "colab_type": "text",
    "id": "1kpXJt_-2Y6d"
   },
   "source": [
    "それでは，訓練データを用いて学習を行います．"
   ]
  },
  {
   "cell_type": "code",
   "execution_count": 14,
   "metadata": {
    "colab": {},
    "colab_type": "code",
    "id": "wQ8SwP0q2Y6e"
   },
   "outputs": [],
   "source": [
    "model = LinearRegression()"
   ]
  },
  {
   "cell_type": "code",
   "execution_count": 15,
   "metadata": {
    "colab": {},
    "colab_type": "code",
    "id": "PJlBMdGY2Y6i",
    "outputId": "a0a580fd-b9e4-4462-f2fd-6568d41df286"
   },
   "outputs": [
    {
     "data": {
      "text/plain": [
       "LinearRegression(copy_X=True, fit_intercept=True, n_jobs=1, normalize=False)"
      ]
     },
     "execution_count": 15,
     "metadata": {},
     "output_type": "execute_result"
    }
   ],
   "source": [
    "model.fit(X_train, t_train)"
   ]
  },
  {
   "cell_type": "markdown",
   "metadata": {
    "colab_type": "text",
    "id": "_BARQrTC2Y6q"
   },
   "source": [
    "検証を行う場合は，訓練データとテストデータの両方に対してチェックしておくと良いでしょう．"
   ]
  },
  {
   "cell_type": "code",
   "execution_count": 16,
   "metadata": {
    "colab": {},
    "colab_type": "code",
    "id": "YQdUNZ6S2Y6r",
    "outputId": "206d5075-9bc9-42da-926f-8b47fe58da2a"
   },
   "outputs": [
    {
     "data": {
      "text/plain": [
       "0.5367815155281135"
      ]
     },
     "execution_count": 16,
     "metadata": {},
     "output_type": "execute_result"
    }
   ],
   "source": [
    "# 訓練データ\n",
    "model.score(X_train, t_train)"
   ]
  },
  {
   "cell_type": "code",
   "execution_count": 17,
   "metadata": {
    "colab": {},
    "colab_type": "code",
    "id": "77Nms7tI2Y6u",
    "outputId": "dc7d522f-9acc-44b9-8843-d57001e43a0b"
   },
   "outputs": [
    {
     "data": {
      "text/plain": [
       "0.40430190556333134"
      ]
     },
     "execution_count": 17,
     "metadata": {},
     "output_type": "execute_result"
    }
   ],
   "source": [
    "# テストデータ\n",
    "model.score(X_test, t_test)"
   ]
  },
  {
   "cell_type": "markdown",
   "metadata": {
    "colab_type": "text",
    "id": "XuMZqq_w2Y6y"
   },
   "source": [
    "テストデータだけでなく，訓練データでも検証することで学習に失敗している場合の問題を切り分けることができます．\n",
    "\n",
    "モデルが訓練データに対して良い精度で予測できない状態を**アンダーフィッティング**といいます．アンダーフィッティングが起きている場合，現状の機械学習アルゴリズムでうまくデータの特徴を捉えられていないと考えられ，アルゴリズムを変更したり，入力データの特徴をより適切に表現できるような変換を考えたりするなどして改善を試みます．逆に**オーバーフィッティング（過学習）**の場合，アルゴリズムでデータの特徴をある程度捉えられていることは確認できているので，モデルが過学習しないように対策していきます．代表的な方法として，**ハイパーパラメータ**とよばれる各アルゴリズムのパラメータ学習に使われるパラメータ値を調整していくことで解決できる場合があります．このように，望ましい結果が得られない中にも，それぞれの状況を把握することで次に打つべき対策が変わってくるため，訓練データとテストデータの両方に対する検証を行うことは重要であることが分かります．\n",
    "\n",
    "また，Scikit-learnでは，スケーリングも行うことができます．例えば，平均0，標準偏差1に変換するデータ正規化を行う場合の手順は以下の通りです．"
   ]
  },
  {
   "cell_type": "code",
   "execution_count": 18,
   "metadata": {
    "colab": {},
    "colab_type": "code",
    "id": "7nQiaY0-2Y6z"
   },
   "outputs": [],
   "source": [
    "from sklearn.preprocessing import StandardScaler"
   ]
  },
  {
   "cell_type": "code",
   "execution_count": 19,
   "metadata": {
    "colab": {},
    "colab_type": "code",
    "id": "_h7JFA1n2Y62"
   },
   "outputs": [],
   "source": [
    "# インスタンス化\n",
    "scaler = StandardScaler()"
   ]
  },
  {
   "cell_type": "markdown",
   "metadata": {
    "colab_type": "text",
    "id": "GMHDNYMtzaWF"
   },
   "source": [
    "訓練データを用いて，平均と分散を計算します．"
   ]
  },
  {
   "cell_type": "code",
   "execution_count": 20,
   "metadata": {
    "colab": {},
    "colab_type": "code",
    "id": "qIm7zbMO2Y66",
    "outputId": "5cb09423-b4c4-4293-ed41-6f6416d8f609"
   },
   "outputs": [
    {
     "data": {
      "text/plain": [
       "StandardScaler(copy=True, with_mean=True, with_std=True)"
      ]
     },
     "execution_count": 20,
     "metadata": {},
     "output_type": "execute_result"
    }
   ],
   "source": [
    "# 平均と分散を計算\n",
    "scaler.fit(X_train)"
   ]
  },
  {
   "cell_type": "markdown",
   "metadata": {
    "colab_type": "text",
    "id": "8DYxLtVDzexf"
   },
   "source": [
    "計算された平均，分散を用いて，訓練データ及びテストデータをスケーリングします．\n"
   ]
  },
  {
   "cell_type": "code",
   "execution_count": 21,
   "metadata": {
    "colab": {},
    "colab_type": "code",
    "id": "hIERf0fi2Y7A"
   },
   "outputs": [],
   "source": [
    "# 変換\n",
    "X_train_s = scaler.transform(X_train)\n",
    "X_test_s  = scaler.transform(X_test)"
   ]
  },
  {
   "cell_type": "markdown",
   "metadata": {
    "colab_type": "text",
    "id": "vectWAXvzWC5"
   },
   "source": [
    "テストデータをスケーリングする際にも，訓練データの平均・分散を利用していることに注意しましょう．テストデータはモデルにとっては未知のデータセットであるため，訓練データとテストデータを合わせた全データの平均・分散を利用すると，それは本来知りえないテストデータの情報をモデルに与えてしまうことになります．そこで，モデルが利用可能な訓練データのみを用いてスケーリングが行われます．\n",
    "\n",
    "訓練データとテストデータでは平均・分散が異なるため，訓練データの平均・分散でスケーリングされたテストデータについては，その平均が$0$，分散が$1$になるとは限らないことに注意してください．"
   ]
  },
  {
   "cell_type": "code",
   "execution_count": 22,
   "metadata": {
    "colab": {},
    "colab_type": "code",
    "id": "6sXWX8bm2Y7C",
    "outputId": "199d6dea-fb1e-4919-a196-6d677635bd08"
   },
   "outputs": [
    {
     "name": "stdout",
     "output_type": "stream",
     "text": [
      "[[ 0.73237793  1.06136988  2.63215088 ...  2.21717062  0.00303359\n",
      "   0.58001135]\n",
      " [-0.43392016 -0.94217861  2.04426777 ... -0.0720488   1.29302381\n",
      "   0.83583477]\n",
      " [ 0.11035228  1.06136988  0.64239265 ... -0.83512194  0.17881766\n",
      "   0.32418794]\n",
      " ...\n",
      " [-1.44471183  1.06136988 -0.26204291 ...  0.69102434  0.40060103\n",
      "  -0.69910573]\n",
      " [-0.51167336 -0.94217861 -0.96298047 ... -0.0720488  -0.70104965\n",
      "   0.23891347]\n",
      " [ 1.43215678 -0.94217861 -0.80470425 ... -0.83512194 -0.57249792\n",
      "   0.06836452]]\n"
     ]
    }
   ],
   "source": [
    "print(X_train_s)"
   ]
  },
  {
   "cell_type": "code",
   "execution_count": 23,
   "metadata": {
    "colab": {},
    "colab_type": "code",
    "id": "MKqbj6if2Y7H",
    "outputId": "5cefe9cf-e319-4a97-f2a5-6028b88271a6"
   },
   "outputs": [
    {
     "name": "stdout",
     "output_type": "stream",
     "text": [
      "[[-1.83347786e+00  1.06136988e+00 -8.49926023e-01 -6.94087827e-01\n",
      "  -1.71762422e+00 -1.44623035e+00 -1.18942342e-01 -8.35121944e-01\n",
      "  -1.21674186e+00 -8.69654676e-01]\n",
      " [ 8.10131137e-01  1.06136988e+00 -1.94210242e-01  5.29030353e-02\n",
      "   2.45950692e-02  7.65868005e-01 -1.14204713e+00  1.01914579e+00\n",
      "  -5.47791745e-01  2.20022633e+00]\n",
      " [-1.52246504e+00 -9.42178611e-01 -8.11557971e-02 -8.38666703e-01\n",
      "  -1.39821735e+00 -1.63380594e+00  1.14026356e+00 -1.59819508e+00\n",
      "  -1.08232165e+00 -6.99105731e-01]\n",
      " [ 1.88105490e-01 -9.42178611e-01  1.16244310e+00 -1.15772320e-01\n",
      "   1.21511158e+00  9.14634853e-01 -4.02419732e-02  4.62102394e-01\n",
      "   1.16694728e+00  2.20022633e+00]\n",
      " [-1.13369901e+00 -9.42178611e-01 -1.16647847e+00 -7.66377265e-01\n",
      "   1.88296231e+00 -7.49880929e-02  1.95859133e-01  6.91024337e-01\n",
      "   2.77777878e+00  6.83645203e-02]\n",
      " [ 3.43611901e-01 -9.42178611e-01 -5.10762688e-01  7.51700939e-01\n",
      "  -1.49626859e-01 -7.49880929e-02 -2.76343079e-01 -7.20488039e-02\n",
      "   3.24308003e-01  3.24187937e-01]\n",
      " [ 1.19889717e+00 -9.42178611e-01 -1.43780914e+00 -1.44107869e+00\n",
      "  -4.44191886e-03 -2.97112260e-02  9.82862819e-01 -7.96968287e-01\n",
      "  -1.01849235e+00 -1.69099520e-02]\n",
      " [-9.78192599e-01 -9.42178611e-01 -1.00820225e+00 -4.04930073e-01\n",
      "  -4.44191886e-03 -3.40181170e-01  1.45506503e+00 -8.35121944e-01\n",
      "  -5.23400311e-01  4.09462410e-01]\n",
      " [ 4.21365107e-01 -9.42178611e-01 -1.21170025e+00 -1.20011389e+00\n",
      "  -3.34789070e-02 -2.69031808e-01  1.61246577e+00 -8.35121944e-01\n",
      "  -1.28766485e+00 -1.55185045e+00]\n",
      " [-5.11673363e-01 -9.42178611e-01 -3.29875576e-01 -2.60351197e-01\n",
      "   4.31112903e-01  8.43485491e-01 -9.05946028e-01  6.91024337e-01\n",
      "   2.92918748e-01 -1.87458897e-01]\n",
      " [ 2.36519525e+00  1.06136988e+00 -6.91649800e-01 -4.77219512e-01\n",
      "  -9.15528832e-02  4.10121195e-01 -1.29944787e+00  1.45409748e+00\n",
      "   3.24308003e-01  9.21109244e-01]\n",
      " [ 1.88105490e-01 -9.42178611e-01  9.58945097e-01  6.07122062e-01\n",
      "   2.56890974e-01 -2.94904303e-01  5.89360976e-01 -8.35121944e-01\n",
      "   9.66326847e-01  7.50560299e-01]\n",
      " [-6.67179775e-01  1.06136988e+00  3.18986479e-02 -1.15772320e-01\n",
      "   1.36029652e+00  1.01165671e+00 -9.84646396e-01  2.21717062e+00\n",
      "   1.75745698e+00  6.83645203e-02]\n",
      " [-9.00439393e-01 -9.42178611e-01  8.68501541e-01 -5.49508950e-01\n",
      "  -6.72292645e-01 -6.37714866e-01 -7.48545291e-01  4.24121672e-02\n",
      "   7.04282344e-01 -3.58007842e-01]\n",
      " [-5.11673363e-01  1.06136988e+00 -5.33373577e-01  8.96279815e-01\n",
      "  -1.13688445e+00 -9.93461677e-01 -4.33743816e-01 -8.35121944e-01\n",
      "   2.13562386e-02  4.09462410e-01]\n",
      " [ 9.65637548e-01 -9.42178611e-01 -1.26377575e-01 -3.32640635e-01\n",
      "   2.63792400e+00  2.57694268e+00  4.31960238e-01  6.91024337e-01\n",
      "   6.78581265e-01 -1.02184424e-01]\n",
      " [ 1.88105490e-01  1.06136988e+00 -1.03766686e-01 -1.34469277e+00\n",
      "   1.47644447e+00  1.72315033e+00 -8.27245659e-01  1.45409748e+00\n",
      "   8.27854357e-01  4.09462410e-01]\n",
      " [-5.11673363e-01  1.06136988e+00  9.58945097e-01  4.62543186e-01\n",
      "   2.31851713e+00  1.82664031e+00  3.84583954e-02  6.91024337e-01\n",
      "   1.55572302e+00  1.26220713e+00]\n",
      " [-1.13369901e+00  1.06136988e+00 -1.30214380e+00  2.45674871e-01\n",
      "  -1.78663847e-01 -7.67077343e-01  2.63557056e+00 -1.59819508e+00\n",
      "  -1.82648575e+00  6.83645203e-02]\n",
      " [-1.28920542e+00  1.06136988e+00  1.13983221e+00 -4.04930073e-01\n",
      "  -1.04977349e+00 -1.01933417e+00  5.10660607e-01 -8.35121944e-01\n",
      "  -9.26569023e-01 -1.02184424e-01]\n",
      " [-5.89426569e-01 -9.42178611e-01  1.68249355e+00  2.07700730e+00\n",
      "  -6.25158951e-02  3.64844328e-01 -3.55043448e-01  5.00428986e-02\n",
      "  -6.22887709e-01  7.50560299e-01]\n",
      " [ 8.87884343e-01  1.06136988e+00 -3.29875576e-01  3.66157268e-01\n",
      "  -7.88440598e-01 -2.94904303e-01 -5.12444185e-01 -2.47555626e-01\n",
      "  -9.87358308e-01  3.24187937e-01]\n",
      " [-1.21145222e+00 -9.42178611e-01  1.95382421e+00 -4.04930073e-01\n",
      "   3.14964950e-01  4.74802433e-01 -5.91144553e-01  5.07886783e-01\n",
      "   5.44631439e-01  8.35834772e-01]\n",
      " [ 2.65858695e-01 -9.42178611e-01  7.10225318e-01  7.03507978e-01\n",
      "   6.34371819e-01  5.52419919e-01 -4.02419732e-02  1.64503870e-01\n",
      "   6.52530500e-01  5.80011355e-01]\n",
      " [ 1.27665037e+00  1.06136988e+00  3.48451094e-01  6.07122062e-01\n",
      "  -8.75551562e-01 -6.11842371e-01 -5.91144553e-01 -7.20488039e-02\n",
      "  -5.30104545e-02 -4.43282314e-01]\n",
      " [-1.60021825e+00  1.06136988e+00  1.16244310e+00 -8.38666703e-01\n",
      "   1.12800062e+00  1.08927420e+00 -9.05946028e-01  1.45409748e+00\n",
      "   1.28361493e+00 -6.99105731e-01]\n",
      " [ 4.99118313e-01 -9.42178611e-01  1.29810843e+00  1.11314813e+00\n",
      "  -7.30366621e-01 -1.01933417e+00 -5.91144553e-01 -7.20488039e-02\n",
      "   1.14679234e+00 -1.02184424e-01]\n",
      " [-1.13369901e+00 -9.42178611e-01 -1.33231301e-02 -5.49508950e-01\n",
      "   2.27853986e-01  1.38459994e-01  1.06156319e+00 -8.35121944e-01\n",
      "  -7.54988475e-01  4.09462410e-01]\n",
      " [-9.78192599e-01  1.06136988e+00 -5.10762688e-01  1.25772701e+00\n",
      "   1.11706034e-01  3.00163089e-01 -1.14204713e+00  1.45409748e+00\n",
      "   8.86772903e-01  3.24187937e-01]\n",
      " [ 9.65637548e-01  1.06136988e+00 -1.71599353e-01 -6.94087827e-01\n",
      "  -1.49626859e-01  1.55656408e-02 -8.27245659e-01  6.91024337e-01\n",
      "   6.26120403e-01  5.80011355e-01]\n",
      " [-1.22907334e-01 -9.42178611e-01  1.36594110e+00  7.51700939e-01\n",
      "  -3.34789070e-02  3.00163089e-01 -2.76343079e-01 -3.37222124e-03\n",
      "  -3.83237633e-01  6.65285827e-01]\n",
      " [ 1.88105490e-01 -9.42178611e-01  3.48451094e-01  1.01095994e-01\n",
      "   1.98816998e-01  2.09609356e-01 -5.91144553e-01  6.91024337e-01\n",
      "   8.15849919e-01  2.45604975e+00]\n",
      " [-6.67179775e-01  1.06136988e+00  1.25288665e+00  2.88065561e-02\n",
      "   2.56890974e-01  6.42973653e-01 -9.05946028e-01  6.91024337e-01\n",
      "   3.08677699e-01  1.53638993e-01]\n",
      " [ 3.25990778e-02  1.06136988e+00  2.35396649e-01 -4.04930073e-01\n",
      "  -3.52885776e-01 -8.79243405e-02 -9.84646396e-01  6.91024337e-01\n",
      "   5.02548390e-01  4.94736882e-01]\n",
      " [ 1.50990999e+00 -9.42178611e-01  2.58007538e-01  8.96279815e-01\n",
      "   1.50548146e+00  1.09574232e+00  1.14026356e+00 -7.20488039e-02\n",
      "   5.30706275e-01 -1.02184424e-01]\n",
      " [-1.28920542e+00 -9.42178611e-01  9.36334208e-01 -4.04930073e-01\n",
      "  -2.07700836e-01 -1.65541827e-01  5.10660607e-01 -8.35121944e-01\n",
      "  -5.72497916e-01 -1.87458897e-01]\n",
      " [-9.00439393e-01 -9.42178611e-01 -6.91649800e-01 -4.77219512e-01\n",
      "   9.82815677e-01  8.49953615e-01  1.21896392e+00 -5.29892688e-01\n",
      "  -5.47791745e-01 -7.84380203e-01]\n",
      " [-5.11673363e-01 -9.42178611e-01 -1.36997647e+00 -1.70613996e+00\n",
      "  -8.17477586e-01 -1.11635603e+00  1.29766429e+00 -1.59819508e+00\n",
      "  -7.82538614e-01 -8.69654676e-01]\n",
      " [-9.00439393e-01 -9.42178611e-01  2.69998355e+00  1.33001644e+00\n",
      "  -7.01329633e-01 -6.82991733e-01  2.74559501e-01 -8.35121944e-01\n",
      "  -3.38707680e-01 -1.04020362e+00]\n",
      " [ 1.04339075e+00 -9.42178611e-01  5.74559984e-01 -5.25412471e-01\n",
      "   4.89186879e-01  3.71312452e-01 -1.29944787e+00  1.63723503e+00\n",
      "   1.51436717e+00  6.65285827e-01]\n",
      " [ 1.50990999e+00  1.06136988e+00 -6.46428022e-01  4.62543186e-01\n",
      "  -7.88440598e-01 -9.80525429e-01  7.46761713e-01 -8.35121944e-01\n",
      "  -3.16825137e-01 -1.69099520e-02]\n",
      " [-1.21145222e+00  1.06136988e+00 -2.16821131e-01  5.34832624e-01\n",
      "   4.89186879e-01  8.17612996e-01 -8.27245659e-01  6.91024337e-01\n",
      "   4.30286922e-01  1.17693266e+00]\n",
      " [-1.13369901e+00 -9.42178611e-01 -1.94210242e-01 -1.15772320e-01\n",
      "   8.37630736e-01  9.14634853e-01  5.89360976e-01 -7.20488039e-02\n",
      "  -3.83237633e-01 -2.72733369e-01]\n",
      " [ 4.99118313e-01  1.06136988e+00  1.29810843e+00  1.30591997e+00\n",
      "   5.18223867e-01 -7.54141095e-01 -1.92905082e+00  3.19390424e+00\n",
      "   2.79926836e+00  1.68857950e+00]\n",
      " [ 1.74316961e+00  1.06136988e+00  3.18986479e-02  7.51700939e-01\n",
      "   2.66696099e+00  1.87191718e+00  4.31960238e-01  6.91024337e-01\n",
      "   1.77212909e+00 -6.13831259e-01]\n",
      " [-9.78192599e-01 -9.42178611e-01 -8.04704245e-01 -5.49508950e-01\n",
      "  -3.23848788e-01  9.09751695e-03 -6.69844922e-01 -7.20488039e-02\n",
      "   2.13562386e-02 -7.84380203e-01]\n",
      " [-2.00660540e-01  1.06136988e+00 -5.78595355e-01  1.73385433e-01\n",
      "   1.01185266e+00  7.59399881e-01 -5.91144553e-01  6.91024337e-01\n",
      "   1.38465381e+00 -8.69654676e-01]\n",
      " [ 1.82092281e+00  1.06136988e+00  9.36334208e-01 -1.15772320e-01\n",
      "  -9.62662526e-01 -7.15332352e-01 -6.69844922e-01 -7.20488039e-02\n",
      "   5.74837567e-02 -5.28556786e-01]\n",
      " [ 3.43611901e-01  1.06136988e+00 -9.40369579e-01  1.33001644e+00\n",
      "   2.27853986e-01 -1.67749784e-02  1.37636466e+00 -8.35121944e-01\n",
      "  -6.48588789e-01  7.50560299e-01]\n",
      " [ 1.43215678e+00  1.06136988e+00 -7.59482467e-01 -1.77842940e+00\n",
      "  -1.49626859e-01  3.97184947e-01 -1.14204713e+00  6.91024337e-01\n",
      "   2.13562386e-02  6.65285827e-01]\n",
      " [-1.28920542e+00  1.06136988e+00 -9.85591357e-01 -4.77219512e-01\n",
      "  -1.51436530e+00 -1.20044164e+00 -1.18942342e-01 -8.35121944e-01\n",
      "  -1.32413646e+00 -1.12547809e+00]\n",
      " [ 1.43215678e+00 -9.42178611e-01  7.71204260e-02  7.51700939e-01\n",
      "   1.04088965e+00  6.36505529e-01  1.53376540e+00 -8.35121944e-01\n",
      "  -1.54660819e-02  4.09462410e-01]\n",
      " [-1.05594580e+00  1.06136988e+00 -5.10762688e-01  4.71007693e-03\n",
      "  -9.91699514e-01 -5.92437999e-01 -1.37814824e+00  5.68932634e-01\n",
      "   4.00601030e-01  2.38913465e-01]\n",
      " [ 8.87884343e-01  1.06136988e+00 -4.65540910e-01  6.07122062e-01\n",
      "  -1.39821735e+00 -9.41716686e-01 -1.29944787e+00 -7.20488039e-02\n",
      "   5.74837567e-02 -1.12547809e+00]\n",
      " [-1.44471183e+00 -9.42178611e-01 -1.14386758e+00 -5.49508950e-01\n",
      "  -1.60147626e+00 -1.70495530e+00  1.06156319e+00 -1.59819508e+00\n",
      "  -1.82648575e+00 -2.14877176e+00]\n",
      " [-9.78192599e-01 -9.42178611e-01  3.25840205e-01 -1.56156109e+00\n",
      "  -1.04977349e+00 -3.66053665e-01 -5.91144553e-01 -7.20488039e-02\n",
      "  -2.19482053e+00 -1.55185045e+00]\n",
      " [ 2.65858695e-01  1.06136988e+00  9.28775894e-03 -2.36254718e-01\n",
      "   8.37630736e-01  1.17335981e+00 -8.27245659e-01  1.14123749e+00\n",
      "   5.02548390e-01  6.65285827e-01]\n",
      " [ 1.19889717e+00 -9.42178611e-01 -1.21170025e+00 -1.63965280e-01\n",
      "   1.09896363e+00  1.00518859e+00  1.21896392e+00 -4.61216105e-01\n",
      "  -5.97527052e-01  9.21109244e-01]\n",
      " [ 9.65637548e-01 -9.42178611e-01 -3.97708243e-01  4.62543186e-01\n",
      "   5.76297843e-01 -2.88436179e-01  2.16336835e+00 -8.35121944e-01\n",
      "   3.70447625e-01 -2.72733369e-01]\n",
      " [-3.56166952e-01 -9.42178611e-01 -7.36871578e-01 -5.49508950e-01\n",
      "   6.92445796e-01  3.45439956e-01  2.16336835e+00 -8.35121944e-01\n",
      "  -1.47739436e+00 -1.63712493e+00]\n",
      " [ 1.43215678e+00 -9.42178611e-01 -1.27953291e+00 -8.38666703e-01\n",
      "  -5.56144693e-01 -5.14820513e-01  7.46761713e-01 -8.35121944e-01\n",
      "  -1.18224180e+00 -1.21075257e+00]\n",
      " [ 1.88105490e-01  1.06136988e+00 -3.59340191e-02  4.62543186e-01\n",
      "  -8.17477586e-01 -5.21288637e-01 -1.18942342e-01 -8.35121944e-01\n",
      "  -8.38857429e-01 -2.72733369e-01]\n",
      " [ 1.04339075e+00 -9.42178611e-01 -8.72536912e-01  2.19748970e+00\n",
      "   7.50519772e-01 -5.40693009e-01  3.81607609e+00 -1.59819508e+00\n",
      "  -2.73796323e-01  3.24187937e-01]\n",
      " [-2.29999710e+00 -9.42178611e-01 -1.61869625e+00 -5.49508950e-01\n",
      "  -1.89184615e+00 -1.99602087e+00  5.89360976e-01 -1.59819508e+00\n",
      "  -8.96883132e-01 -1.02184424e-01]\n",
      " [-1.13369901e+00 -9.42178611e-01  6.42392651e-01 -1.56156109e+00\n",
      "  -4.98070717e-01 -2.43159313e-01 -4.02419732e-02 -7.20488039e-02\n",
      "  -6.48588789e-01 -1.69099520e-02]\n",
      " [ 4.99118313e-01  1.06136988e+00 -7.82093356e-01 -9.83245580e-01\n",
      "  -1.92088313e+00 -1.56912470e+00 -6.69844922e-01 -8.35121944e-01\n",
      "  -6.48588789e-01 -2.72733369e-01]\n",
      " [-1.22907334e-01  1.06136988e+00  3.18986479e-02 -1.77842940e+00\n",
      "  -2.36737824e-01 -3.53117418e-01  1.06156319e+00 -8.35121944e-01\n",
      "  -8.67650477e-01 -1.80767387e+00]\n",
      " [ 1.35440358e+00 -9.42178611e-01 -1.05342402e+00  2.26977914e+00\n",
      "   6.63408808e-01  3.90716823e-01 -3.55043448e-01  4.69733126e-01\n",
      "   1.21642553e+00  8.35834772e-01]\n",
      " [-5.11673363e-01 -9.42178611e-01  8.45890652e-01 -2.60351197e-01\n",
      "  -2.07700836e-01 -2.97112260e-02 -4.02419732e-02 -7.20488039e-02\n",
      "  -2.52639183e-01 -7.84380203e-01]\n",
      " [ 9.65637548e-01 -9.42178611e-01 -5.33373577e-01 -2.60351197e-01\n",
      "   3.73038926e-01 -1.03068545e-02  1.76986650e+00 -8.35121944e-01\n",
      "  -6.74639553e-01 -1.55185045e+00]\n",
      " [-1.28920542e+00  1.06136988e+00  3.25840205e-01 -4.04930073e-01\n",
      "   7.79556760e-01  9.85784216e-01  4.31960238e-01 -7.20488039e-02\n",
      "  -6.48588789e-01 -1.69099520e-02]\n",
      " [-5.89426569e-01  1.06136988e+00  1.27549754e+00  1.04085869e+00\n",
      "   1.79585134e+00  1.77489532e+00 -4.02419732e-02  6.91024337e-01\n",
      "   7.91612865e-01  1.00638372e+00]\n",
      " [-1.91123107e+00 -9.42178611e-01 -2.39432020e-01 -7.66377265e-01\n",
      "   2.56890974e-01  5.07143052e-01 -7.48545291e-01  6.91024337e-01\n",
      "   4.73970223e-01 -1.87458897e-01]\n",
      " [-1.21145222e+00 -9.42178611e-01 -1.55086358e+00 -1.05553502e+00\n",
      "  -5.27107705e-01 -9.80525429e-01  2.00596761e+00 -1.59819508e+00\n",
      "  -1.28766485e+00 -9.54929148e-01]\n",
      " [ 4.99118313e-01 -9.42178611e-01  4.16283761e-01 -2.60351197e-01\n",
      "   1.76681436e+00  7.91740501e-01  1.37636466e+00 -7.20488039e-02\n",
      "   1.38465381e+00  1.00638372e+00]\n",
      " [ 1.74316961e+00  1.06136988e+00 -5.33373577e-01 -7.66377265e-01\n",
      "  -1.48532831e+00 -9.67589182e-01 -8.27245659e-01 -7.20488039e-02\n",
      "  -8.67650477e-01 -1.02184424e-01]\n",
      " [ 4.99118313e-01 -9.42178611e-01  2.31559844e+00  1.33001644e+00\n",
      "   2.85927962e-01 -6.89459857e-01 -5.12444185e-01  4.08687275e-01\n",
      "   2.08184219e+00  4.94736882e-01]\n",
      " [ 1.43215678e+00  1.06136988e+00 -3.07264687e-01  1.23363053e+00\n",
      "  -1.25303241e+00 -7.21800476e-01 -1.29944787e+00  2.48441915e-01\n",
      "  -1.10744527e-01  1.00638372e+00]\n",
      " [ 7.32377931e-01  1.06136988e+00  2.33820933e+00  1.61917420e+00\n",
      "  -6.72292645e-01 -7.08864228e-01 -4.33743816e-01 -7.20488039e-02\n",
      "   5.85809406e-01  1.51803055e+00]\n",
      " [ 1.04339075e+00  1.06136988e+00  2.58692911e+00  1.76375307e+00\n",
      "  -2.21125301e+00 -2.09304273e+00 -1.45684861e+00 -7.20488039e-02\n",
      "   7.67065072e-01 -6.13831259e-01]\n",
      " [ 3.43611901e-01  1.06136988e+00  1.52421732e+00  1.61917420e+00\n",
      "  -1.78663847e-01  1.06119374e-01 -1.18942342e-01 -7.20488039e-02\n",
      "  -4.99315696e-01  1.26220713e+00]\n",
      " [ 3.43611901e-01  1.06136988e+00 -4.42930021e-01 -1.88061759e-01\n",
      "   7.21482784e-01  9.79316092e-01  3.84583954e-02 -7.20488039e-02\n",
      "  -2.73796323e-01  4.94736882e-01]\n",
      " [ 4.21365107e-01  1.06136988e+00 -2.62042909e-01  1.47459532e+00\n",
      "  -2.36737824e-01  1.38459994e-01 -8.27245659e-01  6.91024337e-01\n",
      "   1.10428189e-01  6.83645203e-02]\n",
      " [-5.11673363e-01 -9.42178611e-01  9.58945097e-01  1.90833195e+00\n",
      "  -3.81922764e-01 -7.41204848e-01  1.53376540e+00 -8.35121944e-01\n",
      "  -7.27829131e-01 -1.87458897e-01]\n",
      " [ 1.12114396e+00 -9.42178611e-01 -4.42930021e-01 -1.56156109e+00\n",
      "  -8.46514574e-01 -7.86481714e-01 -1.18942342e-01 -8.35121944e-01\n",
      "  -1.54660819e-02 -1.12547809e+00]\n",
      " [-2.14449069e+00 -9.42178611e-01 -1.41519825e+00 -2.28445547e+00\n",
      "  -1.57243928e+00 -1.51091158e+00  3.53259870e-01 -8.35121944e-01\n",
      "  -1.05014104e+00 -1.87458897e-01]\n",
      " [ 4.21365107e-01 -9.42178611e-01  9.97313150e-02 -5.49508950e-01\n",
      "   4.89186879e-01  2.03141232e-01  1.45506503e+00 -8.35121944e-01\n",
      "  -4.99315696e-01 -9.54929148e-01]\n",
      " [-1.83347786e+00 -9.42178611e-01 -8.11557971e-02 -1.88061759e-01\n",
      "  -6.25158951e-02  1.51396241e-01  5.10660607e-01 -8.35121944e-01\n",
      "  -1.28766485e+00 -2.72733369e-01]\n",
      " [ 1.43215678e+00  1.06136988e+00 -6.23817133e-01  1.20953405e+00\n",
      "  -4.44191886e-03 -3.33713046e-01  1.61246577e+00 -1.06404389e+00\n",
      "  -8.10490959e-01  1.53638993e-01]]\n"
     ]
    }
   ],
   "source": [
    "print(X_test_s)"
   ]
  },
  {
   "cell_type": "markdown",
   "metadata": {
    "colab_type": "text",
    "id": "T-_U59bUNgLB"
   },
   "source": [
    "この他，Scikit-learnはロジスティック回帰やサポートベクターマシン，ランダムフォレストなど様々な機械学習アルゴリズムをサポートしています．\n",
    "\n",
    "これらについても，重回帰分析と同様にモデルをインスタンス化し，学習データを引数として`.fit()`関数で学習し，`.score()`関数で評価できるようになっています．\n",
    "\n",
    "より詳しく知りたい方は[Scikit-learn](https://scikit-learn.org/)サイトや解説サイトなどを参照してください．"
   ]
  },
  {
   "cell_type": "code",
   "execution_count": null,
   "metadata": {},
   "outputs": [],
   "source": []
  }
 ],
 "metadata": {
  "colab": {
   "name": "Introduction to ML libs",
   "provenance": [],
   "version": "0.3.2"
  },
  "kernelspec": {
   "display_name": "Python 3",
   "language": "python",
   "name": "python3"
  },
  "language_info": {
   "codemirror_mode": {
    "name": "ipython",
    "version": 3
   },
   "file_extension": ".py",
   "mimetype": "text/x-python",
   "name": "python",
   "nbconvert_exporter": "python",
   "pygments_lexer": "ipython3",
   "version": "3.7.0"
  }
 },
 "nbformat": 4,
 "nbformat_minor": 1
}
